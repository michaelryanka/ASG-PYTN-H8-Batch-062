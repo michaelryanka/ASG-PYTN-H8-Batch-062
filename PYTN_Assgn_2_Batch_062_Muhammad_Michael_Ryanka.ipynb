{
  "nbformat": 4,
  "nbformat_minor": 0,
  "metadata": {
    "kernelspec": {
      "display_name": "Python 3",
      "language": "python",
      "name": "python3"
    },
    "language_info": {
      "codemirror_mode": {
        "name": "ipython",
        "version": 3
      },
      "file_extension": ".py",
      "mimetype": "text/x-python",
      "name": "python",
      "nbconvert_exporter": "python",
      "pygments_lexer": "ipython3",
      "version": "3.8.5"
    },
    "toc": {
      "base_numbering": 1,
      "nav_menu": {},
      "number_sections": true,
      "sideBar": true,
      "skip_h1_title": false,
      "title_cell": "Table of Contents",
      "title_sidebar": "Contents",
      "toc_cell": false,
      "toc_position": {},
      "toc_section_display": true,
      "toc_window_display": false
    },
    "colab": {
      "name": "PYTN_Assgn_2_Batch 062_Muhammad Michael Ryanka.ipynb",
      "provenance": [],
      "collapsed_sections": [],
      "include_colab_link": true
    }
  },
  "cells": [
    {
      "cell_type": "markdown",
      "metadata": {
        "id": "view-in-github",
        "colab_type": "text"
      },
      "source": [
        "<a href=\"https://colab.research.google.com/github/michaelryanka/ASG-PYTN-H8-Batch-062/blob/main/PYTN_Assgn_2_Batch_062_Muhammad_Michael_Ryanka.ipynb\" target=\"_parent\"><img src=\"https://colab.research.google.com/assets/colab-badge.svg\" alt=\"Open In Colab\"/></a>"
      ]
    },
    {
      "cell_type": "markdown",
      "metadata": {
        "id": "QvdE-yrizm_y"
      },
      "source": [
        "Title: Hacktiv8 PTP Introduction to Data Science Projects 2: Statistical Treatment for Datasets Starter Notebook\\\n",
        "Last Updated: September 20, 2020\\\n",
        "Author: Raka Ardhi"
      ]
    },
    {
      "cell_type": "markdown",
      "metadata": {
        "id": "nZJHp-oJzm_y"
      },
      "source": [
        "## NYC Property Sales Introduction\n",
        "\n",
        "The aim of this projects is to introduce you to practical statistic with Python as concrete and as consistent as possible. Using what you’ve learned; download the NYC Property Sales Dataset from Kaggle. This dataset is a record of every building or building unit (apartment, etc.) sold in the New York City property market over a 12-month period.\n",
        "\n",
        "This dataset contains the location, address, type, sale price, and sale date of building units sold. A reference on the trickier fields:\n",
        "\n",
        "* `BOROUGH`: A digit code for the borough the property is located in; in order these are Manhattan (1), Bronx (2), Brooklyn (3), Queens (4), and Staten Island (5).\n",
        "* `BLOCK`; `LOT`: The combination of borough, block, and lot forms a unique key for property in New York City. Commonly called a BBL.\n",
        "* `BUILDING CLASS AT PRESENT` and `BUILDING CLASS AT TIME OF SALE`: The type of building at various points in time.\n",
        "\n",
        "Note that because this is a financial transaction dataset, there are some points that need to be kept in mind:\n",
        "\n",
        "* Many sales occur with a nonsensically small dollar amount: $0 most commonly. These sales are actually transfers of deeds between parties: for example, parents transferring ownership to their home to a child after moving out for retirement.\n",
        "* This dataset uses the financial definition of a building/building unit, for tax purposes. In case a single entity owns the building in question, a sale covers the value of the entire building. In case a building is owned piecemeal by its residents (a condominium), a sale refers to a single apartment (or group of apartments) owned by some individual.\n",
        "\n",
        "Formulate a question and derive a statistical hypothesis test to answer the question. You have to demonstrate that you’re able to make decisions using data in a scientific manner. Examples of questions can be:\n",
        "\n",
        "* Is there a difference in unit sold between property built in 1900-2000 and 2001 so on?\n",
        "* Is there a difference in unit sold based on building category?\n",
        "* What can you discover about New York City real estate by looking at a year's worth of raw transaction records? Can you spot trends in the market?\n",
        "\n",
        "Please make sure that you have completed the lesson for this course, namely Python and Practical Statistics which is part of this Program.\n",
        "\n",
        "**Note:** You can take a look at Project Rubric below:\n",
        "\n",
        "| Code Review |  |\n",
        "| :--- | :--- |\n",
        "| CRITERIA | SPECIFICATIONS |\n",
        "| Mean | Student implement mean to specifics column/data using pandas, numpy, or scipy|\n",
        "| Median | Student implement median to specifics column/data using pandas, numpy, or scipy|\n",
        "| Modus | Student implement modus to specifics column/data using pandas, numpy, or scipy|\n",
        "| Central Tendencies | Implementing Central Tendencies through dataset |\n",
        "| Box Plot | Implementing Box Plot to visualize spesific data |\n",
        "| Z-Score | Implementing Z-score concept to specific data |\n",
        "| Probability Distribution | Student analyzing distribution of data and gain insight from the distribution |\n",
        "| Intervals | Implementing Confidence or Prediction Intervals |\n",
        "| Hypotesis Testing | Made 1 Hypotesis and get conclusion from data |\n",
        "| Preprocessing | Student preprocess dataset before applying the statistical treatment. |\n",
        "| Does the code run without errors? | The code runs without errors. All code is functional and formatted properly. |\n",
        "\n",
        "| Readability |  |\n",
        "| :--- | :--- |\n",
        "| CRITERIA | SPECIFICATIONS |\n",
        "| Well Documented | All cell in notebook are well documented with markdown above each cell explaining the code|\n",
        "\n",
        "| Analysis |  |\n",
        "| :--- | :--- |\n",
        "| CRITERIA | SPECIFICATIONS |\n",
        "|Overall Analysis| Gain an insight/conclusion of overall plots that answer the hypotesis |\n",
        "\n",
        "**Focus on \"Graded-Function\" sections.**\n",
        "\n",
        "------------"
      ]
    },
    {
      "cell_type": "markdown",
      "metadata": {
        "id": "sbypaODIzm_0"
      },
      "source": [
        "## Data Preparation\n",
        "\n",
        "Load the library you need.\n",
        "\n",
        "Get your NYC property data from [here](https://www.kaggle.com/new-york-city/nyc-property-sales) and load the dataframe to your notebook."
      ]
    },
    {
      "cell_type": "code",
      "metadata": {
        "id": "wl75qrc7zm_0"
      },
      "source": [
        "# Get your import statement here\n",
        "import math\n",
        "import statistics\n",
        "import numpy as np\n",
        "import scipy.stats\n",
        "import pandas as pd\n",
        "import statsmodels.api as sm\n",
        "import matplotlib.pyplot as plt\n",
        "\n",
        "\n",
        "%matplotlib inline\n",
        "import matplotlib.pyplot as plt\n",
        "from IPython.display import Math, Latex\n",
        "#from IPyhton.display import Image\n",
        "\n",
        "import seaborn as sns"
      ],
      "execution_count": null,
      "outputs": []
    },
    {
      "cell_type": "code",
      "metadata": {
        "id": "CSbY34Vezm_2",
        "colab": {
          "base_uri": "https://localhost:8080/"
        },
        "outputId": "54833a37-d2c2-4872-c012-73aadd754548"
      },
      "source": [
        "# Load your dataset here\n",
        "df= pd.read_csv('nyc-rolling-sales.csv')\n",
        "print ('Data read into a pandas dataframe!')"
      ],
      "execution_count": null,
      "outputs": [
        {
          "output_type": "stream",
          "name": "stdout",
          "text": [
            "Data read into a pandas dataframe!\n"
          ]
        }
      ]
    },
    {
      "cell_type": "markdown",
      "metadata": {
        "id": "CSwyoBbNzm_2"
      },
      "source": [
        "Let's view the top 5 rows of the dataset using the `head()` function."
      ]
    },
    {
      "cell_type": "code",
      "metadata": {
        "id": "isk8wK5_zm_3",
        "colab": {
          "base_uri": "https://localhost:8080/",
          "height": 328
        },
        "outputId": "3a1fb912-598d-4e49-9393-a01c3ac9ac7c"
      },
      "source": [
        "# Write your syntax here\n",
        "df.head()"
      ],
      "execution_count": null,
      "outputs": [
        {
          "output_type": "execute_result",
          "data": {
            "text/html": [
              "<div>\n",
              "<style scoped>\n",
              "    .dataframe tbody tr th:only-of-type {\n",
              "        vertical-align: middle;\n",
              "    }\n",
              "\n",
              "    .dataframe tbody tr th {\n",
              "        vertical-align: top;\n",
              "    }\n",
              "\n",
              "    .dataframe thead th {\n",
              "        text-align: right;\n",
              "    }\n",
              "</style>\n",
              "<table border=\"1\" class=\"dataframe\">\n",
              "  <thead>\n",
              "    <tr style=\"text-align: right;\">\n",
              "      <th></th>\n",
              "      <th>Unnamed: 0</th>\n",
              "      <th>BOROUGH</th>\n",
              "      <th>NEIGHBORHOOD</th>\n",
              "      <th>BUILDING CLASS CATEGORY</th>\n",
              "      <th>TAX CLASS AT PRESENT</th>\n",
              "      <th>BLOCK</th>\n",
              "      <th>LOT</th>\n",
              "      <th>EASE-MENT</th>\n",
              "      <th>BUILDING CLASS AT PRESENT</th>\n",
              "      <th>ADDRESS</th>\n",
              "      <th>APARTMENT NUMBER</th>\n",
              "      <th>ZIP CODE</th>\n",
              "      <th>RESIDENTIAL UNITS</th>\n",
              "      <th>COMMERCIAL UNITS</th>\n",
              "      <th>TOTAL UNITS</th>\n",
              "      <th>LAND SQUARE FEET</th>\n",
              "      <th>GROSS SQUARE FEET</th>\n",
              "      <th>YEAR BUILT</th>\n",
              "      <th>TAX CLASS AT TIME OF SALE</th>\n",
              "      <th>BUILDING CLASS AT TIME OF SALE</th>\n",
              "      <th>SALE PRICE</th>\n",
              "      <th>SALE DATE</th>\n",
              "    </tr>\n",
              "  </thead>\n",
              "  <tbody>\n",
              "    <tr>\n",
              "      <th>0</th>\n",
              "      <td>4</td>\n",
              "      <td>1</td>\n",
              "      <td>ALPHABET CITY</td>\n",
              "      <td>07 RENTALS - WALKUP APARTMENTS</td>\n",
              "      <td>2A</td>\n",
              "      <td>392</td>\n",
              "      <td>6</td>\n",
              "      <td></td>\n",
              "      <td>C2</td>\n",
              "      <td>153 AVENUE B</td>\n",
              "      <td></td>\n",
              "      <td>10009</td>\n",
              "      <td>5</td>\n",
              "      <td>0</td>\n",
              "      <td>5</td>\n",
              "      <td>1633</td>\n",
              "      <td>6440</td>\n",
              "      <td>1900</td>\n",
              "      <td>2</td>\n",
              "      <td>C2</td>\n",
              "      <td>6625000</td>\n",
              "      <td>2017-07-19 00:00:00</td>\n",
              "    </tr>\n",
              "    <tr>\n",
              "      <th>1</th>\n",
              "      <td>5</td>\n",
              "      <td>1</td>\n",
              "      <td>ALPHABET CITY</td>\n",
              "      <td>07 RENTALS - WALKUP APARTMENTS</td>\n",
              "      <td>2</td>\n",
              "      <td>399</td>\n",
              "      <td>26</td>\n",
              "      <td></td>\n",
              "      <td>C7</td>\n",
              "      <td>234 EAST 4TH   STREET</td>\n",
              "      <td></td>\n",
              "      <td>10009</td>\n",
              "      <td>28</td>\n",
              "      <td>3</td>\n",
              "      <td>31</td>\n",
              "      <td>4616</td>\n",
              "      <td>18690</td>\n",
              "      <td>1900</td>\n",
              "      <td>2</td>\n",
              "      <td>C7</td>\n",
              "      <td>-</td>\n",
              "      <td>2016-12-14 00:00:00</td>\n",
              "    </tr>\n",
              "    <tr>\n",
              "      <th>2</th>\n",
              "      <td>6</td>\n",
              "      <td>1</td>\n",
              "      <td>ALPHABET CITY</td>\n",
              "      <td>07 RENTALS - WALKUP APARTMENTS</td>\n",
              "      <td>2</td>\n",
              "      <td>399</td>\n",
              "      <td>39</td>\n",
              "      <td></td>\n",
              "      <td>C7</td>\n",
              "      <td>197 EAST 3RD   STREET</td>\n",
              "      <td></td>\n",
              "      <td>10009</td>\n",
              "      <td>16</td>\n",
              "      <td>1</td>\n",
              "      <td>17</td>\n",
              "      <td>2212</td>\n",
              "      <td>7803</td>\n",
              "      <td>1900</td>\n",
              "      <td>2</td>\n",
              "      <td>C7</td>\n",
              "      <td>-</td>\n",
              "      <td>2016-12-09 00:00:00</td>\n",
              "    </tr>\n",
              "    <tr>\n",
              "      <th>3</th>\n",
              "      <td>7</td>\n",
              "      <td>1</td>\n",
              "      <td>ALPHABET CITY</td>\n",
              "      <td>07 RENTALS - WALKUP APARTMENTS</td>\n",
              "      <td>2B</td>\n",
              "      <td>402</td>\n",
              "      <td>21</td>\n",
              "      <td></td>\n",
              "      <td>C4</td>\n",
              "      <td>154 EAST 7TH STREET</td>\n",
              "      <td></td>\n",
              "      <td>10009</td>\n",
              "      <td>10</td>\n",
              "      <td>0</td>\n",
              "      <td>10</td>\n",
              "      <td>2272</td>\n",
              "      <td>6794</td>\n",
              "      <td>1913</td>\n",
              "      <td>2</td>\n",
              "      <td>C4</td>\n",
              "      <td>3936272</td>\n",
              "      <td>2016-09-23 00:00:00</td>\n",
              "    </tr>\n",
              "    <tr>\n",
              "      <th>4</th>\n",
              "      <td>8</td>\n",
              "      <td>1</td>\n",
              "      <td>ALPHABET CITY</td>\n",
              "      <td>07 RENTALS - WALKUP APARTMENTS</td>\n",
              "      <td>2A</td>\n",
              "      <td>404</td>\n",
              "      <td>55</td>\n",
              "      <td></td>\n",
              "      <td>C2</td>\n",
              "      <td>301 EAST 10TH   STREET</td>\n",
              "      <td></td>\n",
              "      <td>10009</td>\n",
              "      <td>6</td>\n",
              "      <td>0</td>\n",
              "      <td>6</td>\n",
              "      <td>2369</td>\n",
              "      <td>4615</td>\n",
              "      <td>1900</td>\n",
              "      <td>2</td>\n",
              "      <td>C2</td>\n",
              "      <td>8000000</td>\n",
              "      <td>2016-11-17 00:00:00</td>\n",
              "    </tr>\n",
              "  </tbody>\n",
              "</table>\n",
              "</div>"
            ],
            "text/plain": [
              "   Unnamed: 0  BOROUGH  ... SALE PRICE            SALE DATE\n",
              "0           4        1  ...    6625000  2017-07-19 00:00:00\n",
              "1           5        1  ...        -    2016-12-14 00:00:00\n",
              "2           6        1  ...        -    2016-12-09 00:00:00\n",
              "3           7        1  ...    3936272  2016-09-23 00:00:00\n",
              "4           8        1  ...    8000000  2016-11-17 00:00:00\n",
              "\n",
              "[5 rows x 22 columns]"
            ]
          },
          "metadata": {},
          "execution_count": 322
        }
      ]
    },
    {
      "cell_type": "markdown",
      "metadata": {
        "id": "7VZ4KOc8zm_3"
      },
      "source": [
        "We can also veiw the bottom 5 rows of the dataset using the `tail()` function."
      ]
    },
    {
      "cell_type": "code",
      "metadata": {
        "id": "wcFZl2jfzm_4",
        "colab": {
          "base_uri": "https://localhost:8080/",
          "height": 328
        },
        "outputId": "73e25a5e-035b-466b-8e13-ea7362fa0555"
      },
      "source": [
        "# Write your syntax here\n",
        "df.tail()"
      ],
      "execution_count": null,
      "outputs": [
        {
          "output_type": "execute_result",
          "data": {
            "text/html": [
              "<div>\n",
              "<style scoped>\n",
              "    .dataframe tbody tr th:only-of-type {\n",
              "        vertical-align: middle;\n",
              "    }\n",
              "\n",
              "    .dataframe tbody tr th {\n",
              "        vertical-align: top;\n",
              "    }\n",
              "\n",
              "    .dataframe thead th {\n",
              "        text-align: right;\n",
              "    }\n",
              "</style>\n",
              "<table border=\"1\" class=\"dataframe\">\n",
              "  <thead>\n",
              "    <tr style=\"text-align: right;\">\n",
              "      <th></th>\n",
              "      <th>Unnamed: 0</th>\n",
              "      <th>BOROUGH</th>\n",
              "      <th>NEIGHBORHOOD</th>\n",
              "      <th>BUILDING CLASS CATEGORY</th>\n",
              "      <th>TAX CLASS AT PRESENT</th>\n",
              "      <th>BLOCK</th>\n",
              "      <th>LOT</th>\n",
              "      <th>EASE-MENT</th>\n",
              "      <th>BUILDING CLASS AT PRESENT</th>\n",
              "      <th>ADDRESS</th>\n",
              "      <th>APARTMENT NUMBER</th>\n",
              "      <th>ZIP CODE</th>\n",
              "      <th>RESIDENTIAL UNITS</th>\n",
              "      <th>COMMERCIAL UNITS</th>\n",
              "      <th>TOTAL UNITS</th>\n",
              "      <th>LAND SQUARE FEET</th>\n",
              "      <th>GROSS SQUARE FEET</th>\n",
              "      <th>YEAR BUILT</th>\n",
              "      <th>TAX CLASS AT TIME OF SALE</th>\n",
              "      <th>BUILDING CLASS AT TIME OF SALE</th>\n",
              "      <th>SALE PRICE</th>\n",
              "      <th>SALE DATE</th>\n",
              "    </tr>\n",
              "  </thead>\n",
              "  <tbody>\n",
              "    <tr>\n",
              "      <th>84543</th>\n",
              "      <td>8409</td>\n",
              "      <td>5</td>\n",
              "      <td>WOODROW</td>\n",
              "      <td>02 TWO FAMILY DWELLINGS</td>\n",
              "      <td>1</td>\n",
              "      <td>7349</td>\n",
              "      <td>34</td>\n",
              "      <td></td>\n",
              "      <td>B9</td>\n",
              "      <td>37 QUAIL LANE</td>\n",
              "      <td></td>\n",
              "      <td>10309</td>\n",
              "      <td>2</td>\n",
              "      <td>0</td>\n",
              "      <td>2</td>\n",
              "      <td>2400</td>\n",
              "      <td>2575</td>\n",
              "      <td>1998</td>\n",
              "      <td>1</td>\n",
              "      <td>B9</td>\n",
              "      <td>450000</td>\n",
              "      <td>2016-11-28 00:00:00</td>\n",
              "    </tr>\n",
              "    <tr>\n",
              "      <th>84544</th>\n",
              "      <td>8410</td>\n",
              "      <td>5</td>\n",
              "      <td>WOODROW</td>\n",
              "      <td>02 TWO FAMILY DWELLINGS</td>\n",
              "      <td>1</td>\n",
              "      <td>7349</td>\n",
              "      <td>78</td>\n",
              "      <td></td>\n",
              "      <td>B9</td>\n",
              "      <td>32 PHEASANT LANE</td>\n",
              "      <td></td>\n",
              "      <td>10309</td>\n",
              "      <td>2</td>\n",
              "      <td>0</td>\n",
              "      <td>2</td>\n",
              "      <td>2498</td>\n",
              "      <td>2377</td>\n",
              "      <td>1998</td>\n",
              "      <td>1</td>\n",
              "      <td>B9</td>\n",
              "      <td>550000</td>\n",
              "      <td>2017-04-21 00:00:00</td>\n",
              "    </tr>\n",
              "    <tr>\n",
              "      <th>84545</th>\n",
              "      <td>8411</td>\n",
              "      <td>5</td>\n",
              "      <td>WOODROW</td>\n",
              "      <td>02 TWO FAMILY DWELLINGS</td>\n",
              "      <td>1</td>\n",
              "      <td>7351</td>\n",
              "      <td>60</td>\n",
              "      <td></td>\n",
              "      <td>B2</td>\n",
              "      <td>49 PITNEY AVENUE</td>\n",
              "      <td></td>\n",
              "      <td>10309</td>\n",
              "      <td>2</td>\n",
              "      <td>0</td>\n",
              "      <td>2</td>\n",
              "      <td>4000</td>\n",
              "      <td>1496</td>\n",
              "      <td>1925</td>\n",
              "      <td>1</td>\n",
              "      <td>B2</td>\n",
              "      <td>460000</td>\n",
              "      <td>2017-07-05 00:00:00</td>\n",
              "    </tr>\n",
              "    <tr>\n",
              "      <th>84546</th>\n",
              "      <td>8412</td>\n",
              "      <td>5</td>\n",
              "      <td>WOODROW</td>\n",
              "      <td>22 STORE BUILDINGS</td>\n",
              "      <td>4</td>\n",
              "      <td>7100</td>\n",
              "      <td>28</td>\n",
              "      <td></td>\n",
              "      <td>K6</td>\n",
              "      <td>2730 ARTHUR KILL ROAD</td>\n",
              "      <td></td>\n",
              "      <td>10309</td>\n",
              "      <td>0</td>\n",
              "      <td>7</td>\n",
              "      <td>7</td>\n",
              "      <td>208033</td>\n",
              "      <td>64117</td>\n",
              "      <td>2001</td>\n",
              "      <td>4</td>\n",
              "      <td>K6</td>\n",
              "      <td>11693337</td>\n",
              "      <td>2016-12-21 00:00:00</td>\n",
              "    </tr>\n",
              "    <tr>\n",
              "      <th>84547</th>\n",
              "      <td>8413</td>\n",
              "      <td>5</td>\n",
              "      <td>WOODROW</td>\n",
              "      <td>35 INDOOR PUBLIC AND CULTURAL FACILITIES</td>\n",
              "      <td>4</td>\n",
              "      <td>7105</td>\n",
              "      <td>679</td>\n",
              "      <td></td>\n",
              "      <td>P9</td>\n",
              "      <td>155 CLAY PIT ROAD</td>\n",
              "      <td></td>\n",
              "      <td>10309</td>\n",
              "      <td>0</td>\n",
              "      <td>1</td>\n",
              "      <td>1</td>\n",
              "      <td>10796</td>\n",
              "      <td>2400</td>\n",
              "      <td>2006</td>\n",
              "      <td>4</td>\n",
              "      <td>P9</td>\n",
              "      <td>69300</td>\n",
              "      <td>2016-10-27 00:00:00</td>\n",
              "    </tr>\n",
              "  </tbody>\n",
              "</table>\n",
              "</div>"
            ],
            "text/plain": [
              "       Unnamed: 0  BOROUGH  ... SALE PRICE            SALE DATE\n",
              "84543        8409        5  ...     450000  2016-11-28 00:00:00\n",
              "84544        8410        5  ...     550000  2017-04-21 00:00:00\n",
              "84545        8411        5  ...     460000  2017-07-05 00:00:00\n",
              "84546        8412        5  ...   11693337  2016-12-21 00:00:00\n",
              "84547        8413        5  ...      69300  2016-10-27 00:00:00\n",
              "\n",
              "[5 rows x 22 columns]"
            ]
          },
          "metadata": {},
          "execution_count": 323
        }
      ]
    },
    {
      "cell_type": "markdown",
      "metadata": {
        "id": "YoXG4s55zm_4"
      },
      "source": [
        "BOROUGH: A digit code for the borough the property is located in; in order these are Manhattan (1), Bronx (2), Brooklyn (3), Queens (4), and Staten Island (5)."
      ]
    },
    {
      "cell_type": "markdown",
      "metadata": {
        "id": "70fi963yzm_5"
      },
      "source": [
        "To view the dimensions of the dataframe, we use the `.shape` parameter. Expected result: (84548, 22)"
      ]
    },
    {
      "cell_type": "code",
      "metadata": {
        "id": "pNwiOAlkzm_5",
        "colab": {
          "base_uri": "https://localhost:8080/"
        },
        "outputId": "00775917-b236-438b-98e1-3df5535dd7a8"
      },
      "source": [
        "# Write your syntax here\n",
        "df.shape"
      ],
      "execution_count": null,
      "outputs": [
        {
          "output_type": "execute_result",
          "data": {
            "text/plain": [
              "(84548, 22)"
            ]
          },
          "metadata": {},
          "execution_count": 324
        }
      ]
    },
    {
      "cell_type": "markdown",
      "metadata": {
        "id": "ZJnNLXu1zm_5"
      },
      "source": [
        "According to this official page, Ease-ment is \"is a right, such as a right of way, which allows an entity to make limited use of another’s real property. For example: MTA railroad tracks that run across a portion of another property\". Also, the Unnamed column is not mentioned and was likely used for iterating through records. So, those two columns are removed for now."
      ]
    },
    {
      "cell_type": "code",
      "metadata": {
        "id": "hFTzvP8Uzm_5",
        "colab": {
          "base_uri": "https://localhost:8080/",
          "height": 632
        },
        "outputId": "cbf20833-5680-4d48-a0b2-8102b3b69187"
      },
      "source": [
        "# Drop 'Unnamed: 0' and 'EASE-MENT' features using .drop function\n",
        "\n",
        "df.drop(columns={\"Unnamed: 0\",\"EASE-MENT\"}, inplace=True)\n",
        "df"
      ],
      "execution_count": null,
      "outputs": [
        {
          "output_type": "execute_result",
          "data": {
            "text/html": [
              "<div>\n",
              "<style scoped>\n",
              "    .dataframe tbody tr th:only-of-type {\n",
              "        vertical-align: middle;\n",
              "    }\n",
              "\n",
              "    .dataframe tbody tr th {\n",
              "        vertical-align: top;\n",
              "    }\n",
              "\n",
              "    .dataframe thead th {\n",
              "        text-align: right;\n",
              "    }\n",
              "</style>\n",
              "<table border=\"1\" class=\"dataframe\">\n",
              "  <thead>\n",
              "    <tr style=\"text-align: right;\">\n",
              "      <th></th>\n",
              "      <th>BOROUGH</th>\n",
              "      <th>NEIGHBORHOOD</th>\n",
              "      <th>BUILDING CLASS CATEGORY</th>\n",
              "      <th>TAX CLASS AT PRESENT</th>\n",
              "      <th>BLOCK</th>\n",
              "      <th>LOT</th>\n",
              "      <th>BUILDING CLASS AT PRESENT</th>\n",
              "      <th>ADDRESS</th>\n",
              "      <th>APARTMENT NUMBER</th>\n",
              "      <th>ZIP CODE</th>\n",
              "      <th>RESIDENTIAL UNITS</th>\n",
              "      <th>COMMERCIAL UNITS</th>\n",
              "      <th>TOTAL UNITS</th>\n",
              "      <th>LAND SQUARE FEET</th>\n",
              "      <th>GROSS SQUARE FEET</th>\n",
              "      <th>YEAR BUILT</th>\n",
              "      <th>TAX CLASS AT TIME OF SALE</th>\n",
              "      <th>BUILDING CLASS AT TIME OF SALE</th>\n",
              "      <th>SALE PRICE</th>\n",
              "      <th>SALE DATE</th>\n",
              "    </tr>\n",
              "  </thead>\n",
              "  <tbody>\n",
              "    <tr>\n",
              "      <th>0</th>\n",
              "      <td>1</td>\n",
              "      <td>ALPHABET CITY</td>\n",
              "      <td>07 RENTALS - WALKUP APARTMENTS</td>\n",
              "      <td>2A</td>\n",
              "      <td>392</td>\n",
              "      <td>6</td>\n",
              "      <td>C2</td>\n",
              "      <td>153 AVENUE B</td>\n",
              "      <td></td>\n",
              "      <td>10009</td>\n",
              "      <td>5</td>\n",
              "      <td>0</td>\n",
              "      <td>5</td>\n",
              "      <td>1633</td>\n",
              "      <td>6440</td>\n",
              "      <td>1900</td>\n",
              "      <td>2</td>\n",
              "      <td>C2</td>\n",
              "      <td>6625000</td>\n",
              "      <td>2017-07-19 00:00:00</td>\n",
              "    </tr>\n",
              "    <tr>\n",
              "      <th>1</th>\n",
              "      <td>1</td>\n",
              "      <td>ALPHABET CITY</td>\n",
              "      <td>07 RENTALS - WALKUP APARTMENTS</td>\n",
              "      <td>2</td>\n",
              "      <td>399</td>\n",
              "      <td>26</td>\n",
              "      <td>C7</td>\n",
              "      <td>234 EAST 4TH   STREET</td>\n",
              "      <td></td>\n",
              "      <td>10009</td>\n",
              "      <td>28</td>\n",
              "      <td>3</td>\n",
              "      <td>31</td>\n",
              "      <td>4616</td>\n",
              "      <td>18690</td>\n",
              "      <td>1900</td>\n",
              "      <td>2</td>\n",
              "      <td>C7</td>\n",
              "      <td>-</td>\n",
              "      <td>2016-12-14 00:00:00</td>\n",
              "    </tr>\n",
              "    <tr>\n",
              "      <th>2</th>\n",
              "      <td>1</td>\n",
              "      <td>ALPHABET CITY</td>\n",
              "      <td>07 RENTALS - WALKUP APARTMENTS</td>\n",
              "      <td>2</td>\n",
              "      <td>399</td>\n",
              "      <td>39</td>\n",
              "      <td>C7</td>\n",
              "      <td>197 EAST 3RD   STREET</td>\n",
              "      <td></td>\n",
              "      <td>10009</td>\n",
              "      <td>16</td>\n",
              "      <td>1</td>\n",
              "      <td>17</td>\n",
              "      <td>2212</td>\n",
              "      <td>7803</td>\n",
              "      <td>1900</td>\n",
              "      <td>2</td>\n",
              "      <td>C7</td>\n",
              "      <td>-</td>\n",
              "      <td>2016-12-09 00:00:00</td>\n",
              "    </tr>\n",
              "    <tr>\n",
              "      <th>3</th>\n",
              "      <td>1</td>\n",
              "      <td>ALPHABET CITY</td>\n",
              "      <td>07 RENTALS - WALKUP APARTMENTS</td>\n",
              "      <td>2B</td>\n",
              "      <td>402</td>\n",
              "      <td>21</td>\n",
              "      <td>C4</td>\n",
              "      <td>154 EAST 7TH STREET</td>\n",
              "      <td></td>\n",
              "      <td>10009</td>\n",
              "      <td>10</td>\n",
              "      <td>0</td>\n",
              "      <td>10</td>\n",
              "      <td>2272</td>\n",
              "      <td>6794</td>\n",
              "      <td>1913</td>\n",
              "      <td>2</td>\n",
              "      <td>C4</td>\n",
              "      <td>3936272</td>\n",
              "      <td>2016-09-23 00:00:00</td>\n",
              "    </tr>\n",
              "    <tr>\n",
              "      <th>4</th>\n",
              "      <td>1</td>\n",
              "      <td>ALPHABET CITY</td>\n",
              "      <td>07 RENTALS - WALKUP APARTMENTS</td>\n",
              "      <td>2A</td>\n",
              "      <td>404</td>\n",
              "      <td>55</td>\n",
              "      <td>C2</td>\n",
              "      <td>301 EAST 10TH   STREET</td>\n",
              "      <td></td>\n",
              "      <td>10009</td>\n",
              "      <td>6</td>\n",
              "      <td>0</td>\n",
              "      <td>6</td>\n",
              "      <td>2369</td>\n",
              "      <td>4615</td>\n",
              "      <td>1900</td>\n",
              "      <td>2</td>\n",
              "      <td>C2</td>\n",
              "      <td>8000000</td>\n",
              "      <td>2016-11-17 00:00:00</td>\n",
              "    </tr>\n",
              "    <tr>\n",
              "      <th>...</th>\n",
              "      <td>...</td>\n",
              "      <td>...</td>\n",
              "      <td>...</td>\n",
              "      <td>...</td>\n",
              "      <td>...</td>\n",
              "      <td>...</td>\n",
              "      <td>...</td>\n",
              "      <td>...</td>\n",
              "      <td>...</td>\n",
              "      <td>...</td>\n",
              "      <td>...</td>\n",
              "      <td>...</td>\n",
              "      <td>...</td>\n",
              "      <td>...</td>\n",
              "      <td>...</td>\n",
              "      <td>...</td>\n",
              "      <td>...</td>\n",
              "      <td>...</td>\n",
              "      <td>...</td>\n",
              "      <td>...</td>\n",
              "    </tr>\n",
              "    <tr>\n",
              "      <th>84543</th>\n",
              "      <td>5</td>\n",
              "      <td>WOODROW</td>\n",
              "      <td>02 TWO FAMILY DWELLINGS</td>\n",
              "      <td>1</td>\n",
              "      <td>7349</td>\n",
              "      <td>34</td>\n",
              "      <td>B9</td>\n",
              "      <td>37 QUAIL LANE</td>\n",
              "      <td></td>\n",
              "      <td>10309</td>\n",
              "      <td>2</td>\n",
              "      <td>0</td>\n",
              "      <td>2</td>\n",
              "      <td>2400</td>\n",
              "      <td>2575</td>\n",
              "      <td>1998</td>\n",
              "      <td>1</td>\n",
              "      <td>B9</td>\n",
              "      <td>450000</td>\n",
              "      <td>2016-11-28 00:00:00</td>\n",
              "    </tr>\n",
              "    <tr>\n",
              "      <th>84544</th>\n",
              "      <td>5</td>\n",
              "      <td>WOODROW</td>\n",
              "      <td>02 TWO FAMILY DWELLINGS</td>\n",
              "      <td>1</td>\n",
              "      <td>7349</td>\n",
              "      <td>78</td>\n",
              "      <td>B9</td>\n",
              "      <td>32 PHEASANT LANE</td>\n",
              "      <td></td>\n",
              "      <td>10309</td>\n",
              "      <td>2</td>\n",
              "      <td>0</td>\n",
              "      <td>2</td>\n",
              "      <td>2498</td>\n",
              "      <td>2377</td>\n",
              "      <td>1998</td>\n",
              "      <td>1</td>\n",
              "      <td>B9</td>\n",
              "      <td>550000</td>\n",
              "      <td>2017-04-21 00:00:00</td>\n",
              "    </tr>\n",
              "    <tr>\n",
              "      <th>84545</th>\n",
              "      <td>5</td>\n",
              "      <td>WOODROW</td>\n",
              "      <td>02 TWO FAMILY DWELLINGS</td>\n",
              "      <td>1</td>\n",
              "      <td>7351</td>\n",
              "      <td>60</td>\n",
              "      <td>B2</td>\n",
              "      <td>49 PITNEY AVENUE</td>\n",
              "      <td></td>\n",
              "      <td>10309</td>\n",
              "      <td>2</td>\n",
              "      <td>0</td>\n",
              "      <td>2</td>\n",
              "      <td>4000</td>\n",
              "      <td>1496</td>\n",
              "      <td>1925</td>\n",
              "      <td>1</td>\n",
              "      <td>B2</td>\n",
              "      <td>460000</td>\n",
              "      <td>2017-07-05 00:00:00</td>\n",
              "    </tr>\n",
              "    <tr>\n",
              "      <th>84546</th>\n",
              "      <td>5</td>\n",
              "      <td>WOODROW</td>\n",
              "      <td>22 STORE BUILDINGS</td>\n",
              "      <td>4</td>\n",
              "      <td>7100</td>\n",
              "      <td>28</td>\n",
              "      <td>K6</td>\n",
              "      <td>2730 ARTHUR KILL ROAD</td>\n",
              "      <td></td>\n",
              "      <td>10309</td>\n",
              "      <td>0</td>\n",
              "      <td>7</td>\n",
              "      <td>7</td>\n",
              "      <td>208033</td>\n",
              "      <td>64117</td>\n",
              "      <td>2001</td>\n",
              "      <td>4</td>\n",
              "      <td>K6</td>\n",
              "      <td>11693337</td>\n",
              "      <td>2016-12-21 00:00:00</td>\n",
              "    </tr>\n",
              "    <tr>\n",
              "      <th>84547</th>\n",
              "      <td>5</td>\n",
              "      <td>WOODROW</td>\n",
              "      <td>35 INDOOR PUBLIC AND CULTURAL FACILITIES</td>\n",
              "      <td>4</td>\n",
              "      <td>7105</td>\n",
              "      <td>679</td>\n",
              "      <td>P9</td>\n",
              "      <td>155 CLAY PIT ROAD</td>\n",
              "      <td></td>\n",
              "      <td>10309</td>\n",
              "      <td>0</td>\n",
              "      <td>1</td>\n",
              "      <td>1</td>\n",
              "      <td>10796</td>\n",
              "      <td>2400</td>\n",
              "      <td>2006</td>\n",
              "      <td>4</td>\n",
              "      <td>P9</td>\n",
              "      <td>69300</td>\n",
              "      <td>2016-10-27 00:00:00</td>\n",
              "    </tr>\n",
              "  </tbody>\n",
              "</table>\n",
              "<p>84548 rows × 20 columns</p>\n",
              "</div>"
            ],
            "text/plain": [
              "       BOROUGH   NEIGHBORHOOD  ... SALE PRICE            SALE DATE\n",
              "0            1  ALPHABET CITY  ...    6625000  2017-07-19 00:00:00\n",
              "1            1  ALPHABET CITY  ...        -    2016-12-14 00:00:00\n",
              "2            1  ALPHABET CITY  ...        -    2016-12-09 00:00:00\n",
              "3            1  ALPHABET CITY  ...    3936272  2016-09-23 00:00:00\n",
              "4            1  ALPHABET CITY  ...    8000000  2016-11-17 00:00:00\n",
              "...        ...            ...  ...        ...                  ...\n",
              "84543        5        WOODROW  ...     450000  2016-11-28 00:00:00\n",
              "84544        5        WOODROW  ...     550000  2017-04-21 00:00:00\n",
              "84545        5        WOODROW  ...     460000  2017-07-05 00:00:00\n",
              "84546        5        WOODROW  ...   11693337  2016-12-21 00:00:00\n",
              "84547        5        WOODROW  ...      69300  2016-10-27 00:00:00\n",
              "\n",
              "[84548 rows x 20 columns]"
            ]
          },
          "metadata": {},
          "execution_count": 325
        }
      ]
    },
    {
      "cell_type": "markdown",
      "metadata": {
        "id": "OMQnd6fSzm_6"
      },
      "source": [
        "Let's view Dtype of each features in dataframe using `.info()` function."
      ]
    },
    {
      "cell_type": "code",
      "metadata": {
        "id": "dn20NoXRzm_6",
        "colab": {
          "base_uri": "https://localhost:8080/"
        },
        "outputId": "f25edc2e-2127-4bf8-82c1-99d0c7e55969"
      },
      "source": [
        "df.info()"
      ],
      "execution_count": null,
      "outputs": [
        {
          "output_type": "stream",
          "name": "stdout",
          "text": [
            "<class 'pandas.core.frame.DataFrame'>\n",
            "RangeIndex: 84548 entries, 0 to 84547\n",
            "Data columns (total 20 columns):\n",
            " #   Column                          Non-Null Count  Dtype \n",
            "---  ------                          --------------  ----- \n",
            " 0   BOROUGH                         84548 non-null  int64 \n",
            " 1   NEIGHBORHOOD                    84548 non-null  object\n",
            " 2   BUILDING CLASS CATEGORY         84548 non-null  object\n",
            " 3   TAX CLASS AT PRESENT            84548 non-null  object\n",
            " 4   BLOCK                           84548 non-null  int64 \n",
            " 5   LOT                             84548 non-null  int64 \n",
            " 6   BUILDING CLASS AT PRESENT       84548 non-null  object\n",
            " 7   ADDRESS                         84548 non-null  object\n",
            " 8   APARTMENT NUMBER                84548 non-null  object\n",
            " 9   ZIP CODE                        84548 non-null  int64 \n",
            " 10  RESIDENTIAL UNITS               84548 non-null  int64 \n",
            " 11  COMMERCIAL UNITS                84548 non-null  int64 \n",
            " 12  TOTAL UNITS                     84548 non-null  int64 \n",
            " 13  LAND SQUARE FEET                84548 non-null  object\n",
            " 14  GROSS SQUARE FEET               84548 non-null  object\n",
            " 15  YEAR BUILT                      84548 non-null  int64 \n",
            " 16  TAX CLASS AT TIME OF SALE       84548 non-null  int64 \n",
            " 17  BUILDING CLASS AT TIME OF SALE  84548 non-null  object\n",
            " 18  SALE PRICE                      84548 non-null  object\n",
            " 19  SALE DATE                       84548 non-null  object\n",
            "dtypes: int64(9), object(11)\n",
            "memory usage: 12.9+ MB\n"
          ]
        }
      ]
    },
    {
      "cell_type": "markdown",
      "metadata": {
        "id": "9zMjN4Lvzm_6"
      },
      "source": [
        "It looks like empty records are not being treated as NA. We convert columns to their appropriate data types to obtain NAs."
      ]
    },
    {
      "cell_type": "code",
      "metadata": {
        "id": "9W6DCiMTzm_6",
        "colab": {
          "base_uri": "https://localhost:8080/"
        },
        "outputId": "85721265-2cfc-415b-d130-6c3df95bd19c"
      },
      "source": [
        "#First, let's check which columns should be categorical\n",
        "print('Column name')\n",
        "for col in df.columns:\n",
        "    if df[col].dtype=='object':\n",
        "        print(col, df[col].nunique())"
      ],
      "execution_count": null,
      "outputs": [
        {
          "output_type": "stream",
          "name": "stdout",
          "text": [
            "Column name\n",
            "NEIGHBORHOOD 254\n",
            "BUILDING CLASS CATEGORY 47\n",
            "TAX CLASS AT PRESENT 11\n",
            "BUILDING CLASS AT PRESENT 167\n",
            "ADDRESS 67563\n",
            "APARTMENT NUMBER 3989\n",
            "LAND SQUARE FEET 6062\n",
            "GROSS SQUARE FEET 5691\n",
            "BUILDING CLASS AT TIME OF SALE 166\n",
            "SALE PRICE 10008\n",
            "SALE DATE 364\n"
          ]
        }
      ]
    },
    {
      "cell_type": "code",
      "metadata": {
        "id": "1zAQryJvzm_7"
      },
      "source": [
        "# LAND SQUARE FEET,GROSS SQUARE FEET, SALE PRICE, BOROUGH should be numeric. \n",
        "# SALE DATE datetime format.\n",
        "# categorical: NEIGHBORHOOD, BUILDING CLASS CATEGORY, TAX CLASS AT PRESENT, BUILDING CLASS AT PRESENT,\n",
        "# BUILDING CLASS AT TIME OF SALE, TAX CLASS AT TIME OF SALE,BOROUGH \n",
        "\n",
        "numer = ['LAND SQUARE FEET','GROSS SQUARE FEET', 'SALE PRICE', 'BOROUGH']\n",
        "for col in numer: # coerce for missing values\n",
        "    df[col] = pd.to_numeric(df[col], errors='coerce')\n",
        "\n",
        "categ = ['NEIGHBORHOOD', 'BUILDING CLASS CATEGORY', 'TAX CLASS AT PRESENT', 'BUILDING CLASS AT PRESENT', 'BUILDING CLASS AT TIME OF SALE', 'TAX CLASS AT TIME OF SALE']\n",
        "for col in categ:\n",
        "    df[col] = df[col].astype('category')\n",
        "\n",
        "df['SALE DATE'] = pd.to_datetime(df['SALE DATE'], errors='coerce')"
      ],
      "execution_count": null,
      "outputs": []
    },
    {
      "cell_type": "markdown",
      "metadata": {
        "id": "jDtz9QX-zm_7"
      },
      "source": [
        "Our dataset is ready for checking missing values."
      ]
    },
    {
      "cell_type": "code",
      "metadata": {
        "id": "K1L9R-iDzm_7",
        "colab": {
          "base_uri": "https://localhost:8080/"
        },
        "outputId": "43fa05a4-92c9-4b25-d001-ea0e70fbb6b0"
      },
      "source": [
        "missing = df.isnull().sum()/len(df)*100\n",
        "\n",
        "print(pd.DataFrame([missing[missing>0],pd.Series(df.isnull().sum()[df.isnull().sum()>1000])], index=['percent missing','how many missing']))"
      ],
      "execution_count": null,
      "outputs": [
        {
          "output_type": "stream",
          "name": "stdout",
          "text": [
            "                  LAND SQUARE FEET  GROSS SQUARE FEET   SALE PRICE\n",
            "percent missing          31.049818          32.658372     17.22217\n",
            "how many missing      26252.000000       27612.000000  14561.00000\n"
          ]
        }
      ]
    },
    {
      "cell_type": "markdown",
      "metadata": {
        "id": "KzleFeqSzm_7"
      },
      "source": [
        "Around 30% of GROSS SF and LAND SF are missing. Furthermore, around 17% of SALE PRICE is also missing."
      ]
    },
    {
      "cell_type": "markdown",
      "metadata": {
        "id": "xjhvaOoLzm_8"
      },
      "source": [
        "We can fill in the missing value from one column to another, which will help us reduce missing values. Expected values:\n",
        "\n",
        "(6, 20)\n",
        "\n",
        "(1366, 20)"
      ]
    },
    {
      "cell_type": "code",
      "metadata": {
        "id": "VEm1_wk8zm_8",
        "colab": {
          "base_uri": "https://localhost:8080/"
        },
        "outputId": "2d331693-89d1-4cc1-c07e-d216ca1beda3"
      },
      "source": [
        "print(df[(df['LAND SQUARE FEET'].isnull()) & (df['GROSS SQUARE FEET'].notnull())].shape)\n",
        "print(df[(df['LAND SQUARE FEET'].notnull()) & (df['GROSS SQUARE FEET'].isnull())].shape)"
      ],
      "execution_count": null,
      "outputs": [
        {
          "output_type": "stream",
          "name": "stdout",
          "text": [
            "(6, 20)\n",
            "(1366, 20)\n"
          ]
        }
      ]
    },
    {
      "cell_type": "markdown",
      "metadata": {
        "id": "fBrpO7ogzm_8"
      },
      "source": [
        "There are 1372 rows that can be filled in with their approximate values."
      ]
    },
    {
      "cell_type": "code",
      "metadata": {
        "id": "XnPkOXVBzm_8"
      },
      "source": [
        "df['LAND SQUARE FEET'] = df['LAND SQUARE FEET'].mask((df['LAND SQUARE FEET'].isnull()) & (df['GROSS SQUARE FEET'].notnull()), df['GROSS SQUARE FEET'])\n",
        "df['GROSS SQUARE FEET'] = df['GROSS SQUARE FEET'].mask((df['LAND SQUARE FEET'].notnull()) & (df['GROSS SQUARE FEET'].isnull()), df['LAND SQUARE FEET'])"
      ],
      "execution_count": null,
      "outputs": []
    },
    {
      "cell_type": "code",
      "metadata": {
        "id": "ojjLjlVtzm_8",
        "colab": {
          "base_uri": "https://localhost:8080/",
          "height": 571
        },
        "outputId": "16c2ba02-8dd6-4c02-e3c1-3b8eded52ef2"
      },
      "source": [
        "#  Check for duplicates before\n",
        "\n",
        "print(sum(df.duplicated()))\n",
        "\n",
        "df[df.duplicated(keep=False)].sort_values(['NEIGHBORHOOD', 'ADDRESS']).head(10)\n",
        "\n",
        "# df.duplicated() automatically excludes duplicates, to keep duplicates in df we use keep=False\n",
        "\n",
        "# in df.duplicated(df.columns) we can specify column names to look for duplicates only in those mentioned columns."
      ],
      "execution_count": null,
      "outputs": [
        {
          "output_type": "stream",
          "name": "stdout",
          "text": [
            "765\n"
          ]
        },
        {
          "output_type": "execute_result",
          "data": {
            "text/html": [
              "<div>\n",
              "<style scoped>\n",
              "    .dataframe tbody tr th:only-of-type {\n",
              "        vertical-align: middle;\n",
              "    }\n",
              "\n",
              "    .dataframe tbody tr th {\n",
              "        vertical-align: top;\n",
              "    }\n",
              "\n",
              "    .dataframe thead th {\n",
              "        text-align: right;\n",
              "    }\n",
              "</style>\n",
              "<table border=\"1\" class=\"dataframe\">\n",
              "  <thead>\n",
              "    <tr style=\"text-align: right;\">\n",
              "      <th></th>\n",
              "      <th>BOROUGH</th>\n",
              "      <th>NEIGHBORHOOD</th>\n",
              "      <th>BUILDING CLASS CATEGORY</th>\n",
              "      <th>TAX CLASS AT PRESENT</th>\n",
              "      <th>BLOCK</th>\n",
              "      <th>LOT</th>\n",
              "      <th>BUILDING CLASS AT PRESENT</th>\n",
              "      <th>ADDRESS</th>\n",
              "      <th>APARTMENT NUMBER</th>\n",
              "      <th>ZIP CODE</th>\n",
              "      <th>RESIDENTIAL UNITS</th>\n",
              "      <th>COMMERCIAL UNITS</th>\n",
              "      <th>TOTAL UNITS</th>\n",
              "      <th>LAND SQUARE FEET</th>\n",
              "      <th>GROSS SQUARE FEET</th>\n",
              "      <th>YEAR BUILT</th>\n",
              "      <th>TAX CLASS AT TIME OF SALE</th>\n",
              "      <th>BUILDING CLASS AT TIME OF SALE</th>\n",
              "      <th>SALE PRICE</th>\n",
              "      <th>SALE DATE</th>\n",
              "    </tr>\n",
              "  </thead>\n",
              "  <tbody>\n",
              "    <tr>\n",
              "      <th>76286</th>\n",
              "      <td>5</td>\n",
              "      <td>ANNADALE</td>\n",
              "      <td>02 TWO FAMILY DWELLINGS</td>\n",
              "      <td>1</td>\n",
              "      <td>6350</td>\n",
              "      <td>7</td>\n",
              "      <td>B2</td>\n",
              "      <td>106 BENNETT PLACE</td>\n",
              "      <td></td>\n",
              "      <td>10312</td>\n",
              "      <td>2</td>\n",
              "      <td>0</td>\n",
              "      <td>2</td>\n",
              "      <td>8000.0</td>\n",
              "      <td>4208.0</td>\n",
              "      <td>1985</td>\n",
              "      <td>1</td>\n",
              "      <td>B2</td>\n",
              "      <td>NaN</td>\n",
              "      <td>2017-06-27</td>\n",
              "    </tr>\n",
              "    <tr>\n",
              "      <th>76287</th>\n",
              "      <td>5</td>\n",
              "      <td>ANNADALE</td>\n",
              "      <td>02 TWO FAMILY DWELLINGS</td>\n",
              "      <td>1</td>\n",
              "      <td>6350</td>\n",
              "      <td>7</td>\n",
              "      <td>B2</td>\n",
              "      <td>106 BENNETT PLACE</td>\n",
              "      <td></td>\n",
              "      <td>10312</td>\n",
              "      <td>2</td>\n",
              "      <td>0</td>\n",
              "      <td>2</td>\n",
              "      <td>8000.0</td>\n",
              "      <td>4208.0</td>\n",
              "      <td>1985</td>\n",
              "      <td>1</td>\n",
              "      <td>B2</td>\n",
              "      <td>NaN</td>\n",
              "      <td>2017-06-27</td>\n",
              "    </tr>\n",
              "    <tr>\n",
              "      <th>76322</th>\n",
              "      <td>5</td>\n",
              "      <td>ANNADALE</td>\n",
              "      <td>05 TAX CLASS 1 VACANT LAND</td>\n",
              "      <td>1B</td>\n",
              "      <td>6459</td>\n",
              "      <td>28</td>\n",
              "      <td>V0</td>\n",
              "      <td>N/A HYLAN BOULEVARD</td>\n",
              "      <td></td>\n",
              "      <td>0</td>\n",
              "      <td>0</td>\n",
              "      <td>0</td>\n",
              "      <td>0</td>\n",
              "      <td>6667.0</td>\n",
              "      <td>6667.0</td>\n",
              "      <td>0</td>\n",
              "      <td>1</td>\n",
              "      <td>V0</td>\n",
              "      <td>NaN</td>\n",
              "      <td>2017-05-11</td>\n",
              "    </tr>\n",
              "    <tr>\n",
              "      <th>76323</th>\n",
              "      <td>5</td>\n",
              "      <td>ANNADALE</td>\n",
              "      <td>05 TAX CLASS 1 VACANT LAND</td>\n",
              "      <td>1B</td>\n",
              "      <td>6459</td>\n",
              "      <td>28</td>\n",
              "      <td>V0</td>\n",
              "      <td>N/A HYLAN BOULEVARD</td>\n",
              "      <td></td>\n",
              "      <td>0</td>\n",
              "      <td>0</td>\n",
              "      <td>0</td>\n",
              "      <td>0</td>\n",
              "      <td>6667.0</td>\n",
              "      <td>6667.0</td>\n",
              "      <td>0</td>\n",
              "      <td>1</td>\n",
              "      <td>V0</td>\n",
              "      <td>NaN</td>\n",
              "      <td>2017-05-11</td>\n",
              "    </tr>\n",
              "    <tr>\n",
              "      <th>76383</th>\n",
              "      <td>5</td>\n",
              "      <td>ARDEN HEIGHTS</td>\n",
              "      <td>01 ONE FAMILY DWELLINGS</td>\n",
              "      <td>1</td>\n",
              "      <td>5741</td>\n",
              "      <td>93</td>\n",
              "      <td>A5</td>\n",
              "      <td>266 ILYSSA WAY</td>\n",
              "      <td></td>\n",
              "      <td>10312</td>\n",
              "      <td>1</td>\n",
              "      <td>0</td>\n",
              "      <td>1</td>\n",
              "      <td>500.0</td>\n",
              "      <td>1354.0</td>\n",
              "      <td>1996</td>\n",
              "      <td>1</td>\n",
              "      <td>A5</td>\n",
              "      <td>320000.0</td>\n",
              "      <td>2017-06-06</td>\n",
              "    </tr>\n",
              "    <tr>\n",
              "      <th>76384</th>\n",
              "      <td>5</td>\n",
              "      <td>ARDEN HEIGHTS</td>\n",
              "      <td>01 ONE FAMILY DWELLINGS</td>\n",
              "      <td>1</td>\n",
              "      <td>5741</td>\n",
              "      <td>93</td>\n",
              "      <td>A5</td>\n",
              "      <td>266 ILYSSA WAY</td>\n",
              "      <td></td>\n",
              "      <td>10312</td>\n",
              "      <td>1</td>\n",
              "      <td>0</td>\n",
              "      <td>1</td>\n",
              "      <td>500.0</td>\n",
              "      <td>1354.0</td>\n",
              "      <td>1996</td>\n",
              "      <td>1</td>\n",
              "      <td>A5</td>\n",
              "      <td>320000.0</td>\n",
              "      <td>2017-06-06</td>\n",
              "    </tr>\n",
              "    <tr>\n",
              "      <th>76643</th>\n",
              "      <td>5</td>\n",
              "      <td>ARROCHAR</td>\n",
              "      <td>02 TWO FAMILY DWELLINGS</td>\n",
              "      <td>1</td>\n",
              "      <td>3103</td>\n",
              "      <td>57</td>\n",
              "      <td>B2</td>\n",
              "      <td>129 MC CLEAN AVENUE</td>\n",
              "      <td></td>\n",
              "      <td>10305</td>\n",
              "      <td>2</td>\n",
              "      <td>0</td>\n",
              "      <td>2</td>\n",
              "      <td>5000.0</td>\n",
              "      <td>2733.0</td>\n",
              "      <td>1925</td>\n",
              "      <td>1</td>\n",
              "      <td>B2</td>\n",
              "      <td>NaN</td>\n",
              "      <td>2017-03-21</td>\n",
              "    </tr>\n",
              "    <tr>\n",
              "      <th>76644</th>\n",
              "      <td>5</td>\n",
              "      <td>ARROCHAR</td>\n",
              "      <td>02 TWO FAMILY DWELLINGS</td>\n",
              "      <td>1</td>\n",
              "      <td>3103</td>\n",
              "      <td>57</td>\n",
              "      <td>B2</td>\n",
              "      <td>129 MC CLEAN AVENUE</td>\n",
              "      <td></td>\n",
              "      <td>10305</td>\n",
              "      <td>2</td>\n",
              "      <td>0</td>\n",
              "      <td>2</td>\n",
              "      <td>5000.0</td>\n",
              "      <td>2733.0</td>\n",
              "      <td>1925</td>\n",
              "      <td>1</td>\n",
              "      <td>B2</td>\n",
              "      <td>NaN</td>\n",
              "      <td>2017-03-21</td>\n",
              "    </tr>\n",
              "    <tr>\n",
              "      <th>50126</th>\n",
              "      <td>4</td>\n",
              "      <td>ASTORIA</td>\n",
              "      <td>03 THREE FAMILY DWELLINGS</td>\n",
              "      <td>1</td>\n",
              "      <td>856</td>\n",
              "      <td>139</td>\n",
              "      <td>C0</td>\n",
              "      <td>22-18 27TH   STREET</td>\n",
              "      <td></td>\n",
              "      <td>11105</td>\n",
              "      <td>3</td>\n",
              "      <td>0</td>\n",
              "      <td>3</td>\n",
              "      <td>2000.0</td>\n",
              "      <td>1400.0</td>\n",
              "      <td>1930</td>\n",
              "      <td>1</td>\n",
              "      <td>C0</td>\n",
              "      <td>NaN</td>\n",
              "      <td>2017-01-12</td>\n",
              "    </tr>\n",
              "    <tr>\n",
              "      <th>50127</th>\n",
              "      <td>4</td>\n",
              "      <td>ASTORIA</td>\n",
              "      <td>03 THREE FAMILY DWELLINGS</td>\n",
              "      <td>1</td>\n",
              "      <td>856</td>\n",
              "      <td>139</td>\n",
              "      <td>C0</td>\n",
              "      <td>22-18 27TH   STREET</td>\n",
              "      <td></td>\n",
              "      <td>11105</td>\n",
              "      <td>3</td>\n",
              "      <td>0</td>\n",
              "      <td>3</td>\n",
              "      <td>2000.0</td>\n",
              "      <td>1400.0</td>\n",
              "      <td>1930</td>\n",
              "      <td>1</td>\n",
              "      <td>C0</td>\n",
              "      <td>NaN</td>\n",
              "      <td>2017-01-12</td>\n",
              "    </tr>\n",
              "  </tbody>\n",
              "</table>\n",
              "</div>"
            ],
            "text/plain": [
              "       BOROUGH   NEIGHBORHOOD  ... SALE PRICE  SALE DATE\n",
              "76286        5       ANNADALE  ...        NaN 2017-06-27\n",
              "76287        5       ANNADALE  ...        NaN 2017-06-27\n",
              "76322        5       ANNADALE  ...        NaN 2017-05-11\n",
              "76323        5       ANNADALE  ...        NaN 2017-05-11\n",
              "76383        5  ARDEN HEIGHTS  ...   320000.0 2017-06-06\n",
              "76384        5  ARDEN HEIGHTS  ...   320000.0 2017-06-06\n",
              "76643        5       ARROCHAR  ...        NaN 2017-03-21\n",
              "76644        5       ARROCHAR  ...        NaN 2017-03-21\n",
              "50126        4        ASTORIA  ...        NaN 2017-01-12\n",
              "50127        4        ASTORIA  ...        NaN 2017-01-12\n",
              "\n",
              "[10 rows x 20 columns]"
            ]
          },
          "metadata": {},
          "execution_count": 332
        }
      ]
    },
    {
      "cell_type": "markdown",
      "metadata": {
        "id": "jX5nkqTrzm_9"
      },
      "source": [
        "The dataframe has 765 duplicated rows (exluding the original rows)."
      ]
    },
    {
      "cell_type": "code",
      "metadata": {
        "id": "DNWfIXKmzm_9",
        "colab": {
          "base_uri": "https://localhost:8080/"
        },
        "outputId": "d84b6f98-9878-40eb-a09a-ceaec90e7a7a"
      },
      "source": [
        "\n",
        "df.drop_duplicates(inplace=True)\n",
        "\n",
        "print(sum(df.duplicated()))"
      ],
      "execution_count": null,
      "outputs": [
        {
          "output_type": "stream",
          "name": "stdout",
          "text": [
            "0\n"
          ]
        }
      ]
    },
    {
      "cell_type": "code",
      "metadata": {
        "colab": {
          "base_uri": "https://localhost:8080/"
        },
        "id": "iqKNksSZuk-v",
        "outputId": "2adee2a0-6522-431d-8f98-871c5f76fdd8"
      },
      "source": [
        "df.isnull().sum()"
      ],
      "execution_count": null,
      "outputs": [
        {
          "output_type": "execute_result",
          "data": {
            "text/plain": [
              "BOROUGH                               0\n",
              "NEIGHBORHOOD                          0\n",
              "BUILDING CLASS CATEGORY               0\n",
              "TAX CLASS AT PRESENT                  0\n",
              "BLOCK                                 0\n",
              "LOT                                   0\n",
              "BUILDING CLASS AT PRESENT             0\n",
              "ADDRESS                               0\n",
              "APARTMENT NUMBER                      0\n",
              "ZIP CODE                              0\n",
              "RESIDENTIAL UNITS                     0\n",
              "COMMERCIAL UNITS                      0\n",
              "TOTAL UNITS                           0\n",
              "LAND SQUARE FEET                  26049\n",
              "GROSS SQUARE FEET                 26049\n",
              "YEAR BUILT                            0\n",
              "TAX CLASS AT TIME OF SALE             0\n",
              "BUILDING CLASS AT TIME OF SALE        0\n",
              "SALE PRICE                        14176\n",
              "SALE DATE                             0\n",
              "dtype: int64"
            ]
          },
          "metadata": {},
          "execution_count": 334
        }
      ]
    },
    {
      "cell_type": "code",
      "metadata": {
        "id": "acV4fG7VupVg"
      },
      "source": [
        "#kita drop data yang null\n",
        "df.dropna(inplace=True)"
      ],
      "execution_count": null,
      "outputs": []
    },
    {
      "cell_type": "code",
      "metadata": {
        "colab": {
          "base_uri": "https://localhost:8080/"
        },
        "id": "1sHwiBTGuskv",
        "outputId": "8d2803cc-49e1-4883-ff98-f78956906e87"
      },
      "source": [
        "df.isnull().sum()"
      ],
      "execution_count": null,
      "outputs": [
        {
          "output_type": "execute_result",
          "data": {
            "text/plain": [
              "BOROUGH                           0\n",
              "NEIGHBORHOOD                      0\n",
              "BUILDING CLASS CATEGORY           0\n",
              "TAX CLASS AT PRESENT              0\n",
              "BLOCK                             0\n",
              "LOT                               0\n",
              "BUILDING CLASS AT PRESENT         0\n",
              "ADDRESS                           0\n",
              "APARTMENT NUMBER                  0\n",
              "ZIP CODE                          0\n",
              "RESIDENTIAL UNITS                 0\n",
              "COMMERCIAL UNITS                  0\n",
              "TOTAL UNITS                       0\n",
              "LAND SQUARE FEET                  0\n",
              "GROSS SQUARE FEET                 0\n",
              "YEAR BUILT                        0\n",
              "TAX CLASS AT TIME OF SALE         0\n",
              "BUILDING CLASS AT TIME OF SALE    0\n",
              "SALE PRICE                        0\n",
              "SALE DATE                         0\n",
              "dtype: int64"
            ]
          },
          "metadata": {},
          "execution_count": 336
        }
      ]
    },
    {
      "cell_type": "markdown",
      "metadata": {
        "id": "S6XIeichzm_9"
      },
      "source": [
        "## Exploratory data analysis"
      ]
    },
    {
      "cell_type": "markdown",
      "metadata": {
        "id": "0cONGnBfzm_9"
      },
      "source": [
        "Now, let's get a simple descriptive statistics with `.describe()` function for `COMMERCIAL UNITS` features."
      ]
    },
    {
      "cell_type": "code",
      "metadata": {
        "id": "JEFzOeyhzm_9",
        "colab": {
          "base_uri": "https://localhost:8080/",
          "height": 300
        },
        "outputId": "45759526-8442-4a44-974b-3a5544372a8b"
      },
      "source": [
        "df[df['COMMERCIAL UNITS']==0].describe()"
      ],
      "execution_count": null,
      "outputs": [
        {
          "output_type": "execute_result",
          "data": {
            "text/html": [
              "<div>\n",
              "<style scoped>\n",
              "    .dataframe tbody tr th:only-of-type {\n",
              "        vertical-align: middle;\n",
              "    }\n",
              "\n",
              "    .dataframe tbody tr th {\n",
              "        vertical-align: top;\n",
              "    }\n",
              "\n",
              "    .dataframe thead th {\n",
              "        text-align: right;\n",
              "    }\n",
              "</style>\n",
              "<table border=\"1\" class=\"dataframe\">\n",
              "  <thead>\n",
              "    <tr style=\"text-align: right;\">\n",
              "      <th></th>\n",
              "      <th>BOROUGH</th>\n",
              "      <th>BLOCK</th>\n",
              "      <th>LOT</th>\n",
              "      <th>ZIP CODE</th>\n",
              "      <th>RESIDENTIAL UNITS</th>\n",
              "      <th>COMMERCIAL UNITS</th>\n",
              "      <th>TOTAL UNITS</th>\n",
              "      <th>LAND SQUARE FEET</th>\n",
              "      <th>GROSS SQUARE FEET</th>\n",
              "      <th>YEAR BUILT</th>\n",
              "      <th>SALE PRICE</th>\n",
              "    </tr>\n",
              "  </thead>\n",
              "  <tbody>\n",
              "    <tr>\n",
              "      <th>count</th>\n",
              "      <td>44504.000000</td>\n",
              "      <td>44504.000000</td>\n",
              "      <td>44504.000000</td>\n",
              "      <td>44504.000000</td>\n",
              "      <td>44504.000000</td>\n",
              "      <td>44504.0</td>\n",
              "      <td>44504.000000</td>\n",
              "      <td>4.450400e+04</td>\n",
              "      <td>4.450400e+04</td>\n",
              "      <td>44504.000000</td>\n",
              "      <td>4.450400e+04</td>\n",
              "    </tr>\n",
              "    <tr>\n",
              "      <th>mean</th>\n",
              "      <td>3.299254</td>\n",
              "      <td>5103.551681</td>\n",
              "      <td>248.093924</td>\n",
              "      <td>10892.030829</td>\n",
              "      <td>2.215082</td>\n",
              "      <td>0.0</td>\n",
              "      <td>2.236496</td>\n",
              "      <td>2.883501e+03</td>\n",
              "      <td>2.501862e+03</td>\n",
              "      <td>1803.763302</td>\n",
              "      <td>7.563546e+05</td>\n",
              "    </tr>\n",
              "    <tr>\n",
              "      <th>std</th>\n",
              "      <td>0.897414</td>\n",
              "      <td>3466.307329</td>\n",
              "      <td>510.231161</td>\n",
              "      <td>1310.213112</td>\n",
              "      <td>11.535267</td>\n",
              "      <td>0.0</td>\n",
              "      <td>11.532063</td>\n",
              "      <td>3.078289e+04</td>\n",
              "      <td>2.843747e+04</td>\n",
              "      <td>507.825487</td>\n",
              "      <td>2.950508e+06</td>\n",
              "    </tr>\n",
              "    <tr>\n",
              "      <th>min</th>\n",
              "      <td>1.000000</td>\n",
              "      <td>1.000000</td>\n",
              "      <td>1.000000</td>\n",
              "      <td>0.000000</td>\n",
              "      <td>0.000000</td>\n",
              "      <td>0.0</td>\n",
              "      <td>0.000000</td>\n",
              "      <td>0.000000e+00</td>\n",
              "      <td>0.000000e+00</td>\n",
              "      <td>0.000000</td>\n",
              "      <td>0.000000e+00</td>\n",
              "    </tr>\n",
              "    <tr>\n",
              "      <th>25%</th>\n",
              "      <td>3.000000</td>\n",
              "      <td>2299.000000</td>\n",
              "      <td>22.000000</td>\n",
              "      <td>10469.000000</td>\n",
              "      <td>1.000000</td>\n",
              "      <td>0.0</td>\n",
              "      <td>1.000000</td>\n",
              "      <td>1.238000e+03</td>\n",
              "      <td>0.000000e+00</td>\n",
              "      <td>1920.000000</td>\n",
              "      <td>1.267500e+05</td>\n",
              "    </tr>\n",
              "    <tr>\n",
              "      <th>50%</th>\n",
              "      <td>3.000000</td>\n",
              "      <td>4753.500000</td>\n",
              "      <td>47.000000</td>\n",
              "      <td>11217.000000</td>\n",
              "      <td>1.000000</td>\n",
              "      <td>0.0</td>\n",
              "      <td>1.000000</td>\n",
              "      <td>2.100000e+03</td>\n",
              "      <td>1.540000e+03</td>\n",
              "      <td>1930.000000</td>\n",
              "      <td>4.790000e+05</td>\n",
              "    </tr>\n",
              "    <tr>\n",
              "      <th>75%</th>\n",
              "      <td>4.000000</td>\n",
              "      <td>7135.000000</td>\n",
              "      <td>105.000000</td>\n",
              "      <td>11238.000000</td>\n",
              "      <td>2.000000</td>\n",
              "      <td>0.0</td>\n",
              "      <td>2.000000</td>\n",
              "      <td>3.000000e+03</td>\n",
              "      <td>2.327000e+03</td>\n",
              "      <td>1962.000000</td>\n",
              "      <td>7.990000e+05</td>\n",
              "    </tr>\n",
              "    <tr>\n",
              "      <th>max</th>\n",
              "      <td>5.000000</td>\n",
              "      <td>16319.000000</td>\n",
              "      <td>9056.000000</td>\n",
              "      <td>11694.000000</td>\n",
              "      <td>889.000000</td>\n",
              "      <td>0.0</td>\n",
              "      <td>889.000000</td>\n",
              "      <td>4.252327e+06</td>\n",
              "      <td>4.252327e+06</td>\n",
              "      <td>2017.000000</td>\n",
              "      <td>3.450000e+08</td>\n",
              "    </tr>\n",
              "  </tbody>\n",
              "</table>\n",
              "</div>"
            ],
            "text/plain": [
              "            BOROUGH         BLOCK  ...    YEAR BUILT    SALE PRICE\n",
              "count  44504.000000  44504.000000  ...  44504.000000  4.450400e+04\n",
              "mean       3.299254   5103.551681  ...   1803.763302  7.563546e+05\n",
              "std        0.897414   3466.307329  ...    507.825487  2.950508e+06\n",
              "min        1.000000      1.000000  ...      0.000000  0.000000e+00\n",
              "25%        3.000000   2299.000000  ...   1920.000000  1.267500e+05\n",
              "50%        3.000000   4753.500000  ...   1930.000000  4.790000e+05\n",
              "75%        4.000000   7135.000000  ...   1962.000000  7.990000e+05\n",
              "max        5.000000  16319.000000  ...   2017.000000  3.450000e+08\n",
              "\n",
              "[8 rows x 11 columns]"
            ]
          },
          "metadata": {},
          "execution_count": 337
        }
      ]
    },
    {
      "cell_type": "markdown",
      "metadata": {
        "id": "9CAYplYLzm_9"
      },
      "source": [
        "Let us try to understand the columns. Above table shows descriptive statistics for the numeric columns.\n",
        "\n",
        "- There are zipcodes with 0 value\n",
        "- Can block/lot numbers go up to 16322?\n",
        "- Most of the properties have 2 unit and maximum of 1844 units? The latter might mean some company purchased a building. This should be treated as an outlier.\n",
        "- Other columns also have outliers which needs further investigation.\n",
        "- Year column has a year with 0\n",
        "- Most sales prices less than 10000 can be treated as gift or transfer fees."
      ]
    },
    {
      "cell_type": "markdown",
      "metadata": {
        "id": "TjYg54H_zm_9"
      },
      "source": [
        "Now, let's get a simple descriptive statistics with `.describe()` function for `RESIDENTIAL UNITS` features.\n",
        "\n",
        "Function below are graded function. (1 Points)"
      ]
    },
    {
      "cell_type": "code",
      "metadata": {
        "id": "tMsS1Udtzm_-",
        "colab": {
          "base_uri": "https://localhost:8080/",
          "height": 300
        },
        "outputId": "c97d9a89-ffb6-4591-fc5a-f86d9d2da1f0"
      },
      "source": [
        "# Write your function below\n",
        "df[df['RESIDENTIAL UNITS']==0].describe()\n",
        "\n",
        "# Graded-Funtion Begin (~1 Lines)\n",
        "\n",
        "# Graded-Funtion End"
      ],
      "execution_count": null,
      "outputs": [
        {
          "output_type": "execute_result",
          "data": {
            "text/html": [
              "<div>\n",
              "<style scoped>\n",
              "    .dataframe tbody tr th:only-of-type {\n",
              "        vertical-align: middle;\n",
              "    }\n",
              "\n",
              "    .dataframe tbody tr th {\n",
              "        vertical-align: top;\n",
              "    }\n",
              "\n",
              "    .dataframe thead th {\n",
              "        text-align: right;\n",
              "    }\n",
              "</style>\n",
              "<table border=\"1\" class=\"dataframe\">\n",
              "  <thead>\n",
              "    <tr style=\"text-align: right;\">\n",
              "      <th></th>\n",
              "      <th>BOROUGH</th>\n",
              "      <th>BLOCK</th>\n",
              "      <th>LOT</th>\n",
              "      <th>ZIP CODE</th>\n",
              "      <th>RESIDENTIAL UNITS</th>\n",
              "      <th>COMMERCIAL UNITS</th>\n",
              "      <th>TOTAL UNITS</th>\n",
              "      <th>LAND SQUARE FEET</th>\n",
              "      <th>GROSS SQUARE FEET</th>\n",
              "      <th>YEAR BUILT</th>\n",
              "      <th>SALE PRICE</th>\n",
              "    </tr>\n",
              "  </thead>\n",
              "  <tbody>\n",
              "    <tr>\n",
              "      <th>count</th>\n",
              "      <td>8308.000000</td>\n",
              "      <td>8308.000000</td>\n",
              "      <td>8308.000000</td>\n",
              "      <td>8308.000000</td>\n",
              "      <td>8308.0</td>\n",
              "      <td>8308.000000</td>\n",
              "      <td>8308.000000</td>\n",
              "      <td>8.308000e+03</td>\n",
              "      <td>8.308000e+03</td>\n",
              "      <td>8308.000000</td>\n",
              "      <td>8.308000e+03</td>\n",
              "    </tr>\n",
              "    <tr>\n",
              "      <th>mean</th>\n",
              "      <td>2.853033</td>\n",
              "      <td>4465.301517</td>\n",
              "      <td>279.675253</td>\n",
              "      <td>10249.926456</td>\n",
              "      <td>0.0</td>\n",
              "      <td>0.983028</td>\n",
              "      <td>1.097737</td>\n",
              "      <td>6.690637e+03</td>\n",
              "      <td>7.490092e+03</td>\n",
              "      <td>1514.548146</td>\n",
              "      <td>2.509375e+06</td>\n",
              "    </tr>\n",
              "    <tr>\n",
              "      <th>std</th>\n",
              "      <td>0.713720</td>\n",
              "      <td>2952.551631</td>\n",
              "      <td>509.883519</td>\n",
              "      <td>2801.254842</td>\n",
              "      <td>0.0</td>\n",
              "      <td>26.007121</td>\n",
              "      <td>26.004738</td>\n",
              "      <td>8.293590e+04</td>\n",
              "      <td>7.810572e+04</td>\n",
              "      <td>814.794695</td>\n",
              "      <td>3.078971e+07</td>\n",
              "    </tr>\n",
              "    <tr>\n",
              "      <th>min</th>\n",
              "      <td>1.000000</td>\n",
              "      <td>1.000000</td>\n",
              "      <td>1.000000</td>\n",
              "      <td>0.000000</td>\n",
              "      <td>0.0</td>\n",
              "      <td>0.000000</td>\n",
              "      <td>0.000000</td>\n",
              "      <td>0.000000e+00</td>\n",
              "      <td>0.000000e+00</td>\n",
              "      <td>0.000000</td>\n",
              "      <td>0.000000e+00</td>\n",
              "    </tr>\n",
              "    <tr>\n",
              "      <th>25%</th>\n",
              "      <td>3.000000</td>\n",
              "      <td>1944.000000</td>\n",
              "      <td>15.000000</td>\n",
              "      <td>10466.000000</td>\n",
              "      <td>0.0</td>\n",
              "      <td>0.000000</td>\n",
              "      <td>0.000000</td>\n",
              "      <td>0.000000e+00</td>\n",
              "      <td>0.000000e+00</td>\n",
              "      <td>1907.750000</td>\n",
              "      <td>0.000000e+00</td>\n",
              "    </tr>\n",
              "    <tr>\n",
              "      <th>50%</th>\n",
              "      <td>3.000000</td>\n",
              "      <td>4586.000000</td>\n",
              "      <td>44.000000</td>\n",
              "      <td>11210.000000</td>\n",
              "      <td>0.0</td>\n",
              "      <td>0.000000</td>\n",
              "      <td>0.000000</td>\n",
              "      <td>0.000000e+00</td>\n",
              "      <td>0.000000e+00</td>\n",
              "      <td>1937.000000</td>\n",
              "      <td>2.390000e+05</td>\n",
              "    </tr>\n",
              "    <tr>\n",
              "      <th>75%</th>\n",
              "      <td>3.000000</td>\n",
              "      <td>6570.750000</td>\n",
              "      <td>193.000000</td>\n",
              "      <td>11229.000000</td>\n",
              "      <td>0.0</td>\n",
              "      <td>0.000000</td>\n",
              "      <td>1.000000</td>\n",
              "      <td>2.500000e+03</td>\n",
              "      <td>8.000000e+02</td>\n",
              "      <td>1961.000000</td>\n",
              "      <td>6.500000e+05</td>\n",
              "    </tr>\n",
              "    <tr>\n",
              "      <th>max</th>\n",
              "      <td>5.000000</td>\n",
              "      <td>16315.000000</td>\n",
              "      <td>9056.000000</td>\n",
              "      <td>11694.000000</td>\n",
              "      <td>0.0</td>\n",
              "      <td>2261.000000</td>\n",
              "      <td>2261.000000</td>\n",
              "      <td>4.252327e+06</td>\n",
              "      <td>4.252327e+06</td>\n",
              "      <td>2017.000000</td>\n",
              "      <td>2.210000e+09</td>\n",
              "    </tr>\n",
              "  </tbody>\n",
              "</table>\n",
              "</div>"
            ],
            "text/plain": [
              "           BOROUGH         BLOCK  ...   YEAR BUILT    SALE PRICE\n",
              "count  8308.000000   8308.000000  ...  8308.000000  8.308000e+03\n",
              "mean      2.853033   4465.301517  ...  1514.548146  2.509375e+06\n",
              "std       0.713720   2952.551631  ...   814.794695  3.078971e+07\n",
              "min       1.000000      1.000000  ...     0.000000  0.000000e+00\n",
              "25%       3.000000   1944.000000  ...  1907.750000  0.000000e+00\n",
              "50%       3.000000   4586.000000  ...  1937.000000  2.390000e+05\n",
              "75%       3.000000   6570.750000  ...  1961.000000  6.500000e+05\n",
              "max       5.000000  16315.000000  ...  2017.000000  2.210000e+09\n",
              "\n",
              "[8 rows x 11 columns]"
            ]
          },
          "metadata": {},
          "execution_count": 338
        }
      ]
    },
    {
      "cell_type": "markdown",
      "metadata": {
        "id": "V_I7basGzm_-"
      },
      "source": [
        "Write your findings below:"
      ]
    },
    {
      "cell_type": "markdown",
      "metadata": {
        "id": "FyXE36Hjzm_-"
      },
      "source": [
        "\n",
        "\n",
        "*   ada zipcode yang memiliki 0 value\n",
        "*   Untuk Residential memiliki rata-rata SALE PRICE unit lebih dari 1000000\n",
        "\n"
      ]
    },
    {
      "cell_type": "markdown",
      "metadata": {
        "id": "XRjUBI4_zm_-"
      },
      "source": [
        "Use `.value_counts` function to count total value of `BOROUGH` features. Expected value:\n",
        "\n",
        "4    26548\\\n",
        "3    23843\\\n",
        "1    18102\\\n",
        "5     8296\\\n",
        "2     6994\\\n",
        "Name: BOROUGH, dtype: int64"
      ]
    },
    {
      "cell_type": "code",
      "metadata": {
        "id": "z8HBPAn1zm_-",
        "colab": {
          "base_uri": "https://localhost:8080/"
        },
        "outputId": "3a61fd43-aab3-4b6a-ab9a-c4b23cbf4460"
      },
      "source": [
        "# Write your syntax below\n",
        "\n",
        "df_borough = df['BOROUGH'].value_counts()\n",
        "df_borough"
      ],
      "execution_count": null,
      "outputs": [
        {
          "output_type": "execute_result",
          "data": {
            "text/plain": [
              "3    23843\n",
              "4    11292\n",
              "2     6994\n",
              "5     5311\n",
              "1     1013\n",
              "Name: BOROUGH, dtype: int64"
            ]
          },
          "metadata": {},
          "execution_count": 339
        }
      ]
    },
    {
      "cell_type": "markdown",
      "metadata": {
        "id": "s15Lpffqzm__"
      },
      "source": [
        "From here, we can calculate the mean for each Borough. Use `.mean()` function to calculate mean.\n",
        "\n",
        "Function below are graded function. (1 Points)"
      ]
    },
    {
      "cell_type": "code",
      "metadata": {
        "id": "2KY2H-6Nzm__",
        "colab": {
          "base_uri": "https://localhost:8080/"
        },
        "outputId": "5d76556c-0171-4a6e-8b37-54dc3d04a726"
      },
      "source": [
        "# Write your function below\n",
        "df_borough.mean()\n",
        "# Graded-Funtion Begin (~1 Lines)\n",
        "\n",
        "\n",
        "\n",
        "# Graded-Funtion End\n",
        "\n"
      ],
      "execution_count": null,
      "outputs": [
        {
          "output_type": "execute_result",
          "data": {
            "text/plain": [
              "9690.6"
            ]
          },
          "metadata": {},
          "execution_count": 340
        }
      ]
    },
    {
      "cell_type": "markdown",
      "metadata": {
        "id": "0eUT7rkCzm__"
      },
      "source": [
        "From here, we can calculate the median for each Borough. Use `.median()` function to calculate median.\n",
        "\n",
        "Function below are graded function. (1 Points)"
      ]
    },
    {
      "cell_type": "code",
      "metadata": {
        "id": "ytnN7xJHzm__",
        "colab": {
          "base_uri": "https://localhost:8080/"
        },
        "outputId": "eaa38849-8dd9-4f54-c22d-c345aa4251ce"
      },
      "source": [
        "# Write your function below\n",
        "df_borough.median()\n",
        "# Graded-Funtion Begin (~1 Lines)\n",
        "\n",
        "# Graded-Funtion End"
      ],
      "execution_count": null,
      "outputs": [
        {
          "output_type": "execute_result",
          "data": {
            "text/plain": [
              "6994.0"
            ]
          },
          "metadata": {},
          "execution_count": 341
        }
      ]
    },
    {
      "cell_type": "markdown",
      "metadata": {
        "id": "cJoR4CEVzm__"
      },
      "source": [
        "From here, we can calculate the mode for each Borough.\n",
        "\n",
        "Function below are graded function. (1 Points)"
      ]
    },
    {
      "cell_type": "code",
      "metadata": {
        "id": "VPa87ZorznAA",
        "colab": {
          "base_uri": "https://localhost:8080/"
        },
        "outputId": "fef54961-10de-4c5f-efb0-8827f52d949d"
      },
      "source": [
        "# Write your function below\n",
        "df_borough.mode()\n",
        "# Graded-Funtion Begin (~1 Lines)\n",
        "\n",
        "# Graded-Funtion End"
      ],
      "execution_count": null,
      "outputs": [
        {
          "output_type": "execute_result",
          "data": {
            "text/plain": [
              "0     1013\n",
              "1     5311\n",
              "2     6994\n",
              "3    11292\n",
              "4    23843\n",
              "dtype: int64"
            ]
          },
          "metadata": {},
          "execution_count": 342
        }
      ]
    },
    {
      "cell_type": "markdown",
      "metadata": {
        "id": "Na105B_RznAA"
      },
      "source": [
        "From here, we can calculate the Range for each Borough.\n",
        "\n",
        "Function below are graded function. (1 Points)"
      ]
    },
    {
      "cell_type": "code",
      "metadata": {
        "id": "Mj6bQZPTznAA",
        "colab": {
          "base_uri": "https://localhost:8080/"
        },
        "outputId": "9ecd5b4e-2e1c-421f-9b13-adfd8a2369fe"
      },
      "source": [
        "# Write your function below\n",
        "np.ptp(df_borough)\n",
        "# Graded-Funtion Begin (~1 Lines)\n",
        "\n",
        "# Graded-Funtion End"
      ],
      "execution_count": null,
      "outputs": [
        {
          "output_type": "execute_result",
          "data": {
            "text/plain": [
              "22830"
            ]
          },
          "metadata": {},
          "execution_count": 343
        }
      ]
    },
    {
      "cell_type": "markdown",
      "metadata": {
        "id": "o1O025GSznAA"
      },
      "source": [
        "From here, we can calculate the Variance for each Borough.\n",
        "\n",
        "Function below are graded function. (1 Points)"
      ]
    },
    {
      "cell_type": "code",
      "metadata": {
        "id": "SZlq_KxSznAA",
        "colab": {
          "base_uri": "https://localhost:8080/"
        },
        "outputId": "30cb456c-ea3e-411b-8cfb-f9d95f0050d3"
      },
      "source": [
        "# Write your function below\n",
        "df_borough.var()\n",
        "# Graded-Funtion Begin (~1 Lines)\n",
        "\n",
        "# Graded-Funtion End"
      ],
      "execution_count": null,
      "outputs": [
        {
          "output_type": "execute_result",
          "data": {
            "text/plain": [
              "76152049.3"
            ]
          },
          "metadata": {},
          "execution_count": 344
        }
      ]
    },
    {
      "cell_type": "markdown",
      "metadata": {
        "id": "YRr0SH8RznAA"
      },
      "source": [
        "From here, we can calculate the SD for each Borough.\n",
        "\n",
        "Function below are graded function. (1 Points)"
      ]
    },
    {
      "cell_type": "code",
      "metadata": {
        "id": "QC3MMKXBznAB",
        "colab": {
          "base_uri": "https://localhost:8080/"
        },
        "outputId": "f56ee5ff-2d85-42bb-cfa8-cf2ac1f51dcf"
      },
      "source": [
        "# Write your function below\n",
        "df_borough.std(ddof=1)\n",
        "# Graded-Funtion Begin (~1 Lines)\n",
        "\n",
        "# Graded-Funtion End"
      ],
      "execution_count": null,
      "outputs": [
        {
          "output_type": "execute_result",
          "data": {
            "text/plain": [
              "8726.51415514809"
            ]
          },
          "metadata": {},
          "execution_count": 345
        }
      ]
    },
    {
      "cell_type": "markdown",
      "metadata": {
        "id": "JWd0KlApeJJh"
      },
      "source": [
        "Contoh untuk CI\n",
        "# Berapa % property di NYC yang diatas 3000000"
      ]
    },
    {
      "cell_type": "code",
      "metadata": {
        "id": "lLuSYVdHznAB",
        "colab": {
          "base_uri": "https://localhost:8080/"
        },
        "outputId": "2dc34ebc-a460-4eb4-94b7-f667f583d388"
      },
      "source": [
        "# Cari jumlah nya dulu\n",
        "df_priceover = df[df['SALE PRICE'] > 3000000]\n",
        "print(f\"jumlah data properti: {df.shape}\")\n",
        "print(f\"jumlah properti diatas 3000000  : {df_priceover.shape}\")\n"
      ],
      "execution_count": null,
      "outputs": [
        {
          "output_type": "stream",
          "name": "stdout",
          "text": [
            "jumlah data properti: (48453, 20)\n",
            "jumlah properti diatas 3000000  : (1948, 20)\n"
          ]
        }
      ]
    },
    {
      "cell_type": "markdown",
      "metadata": {
        "id": "jRWsmwQXznAB"
      },
      "source": [
        "# Now we can analyze **Confidence Intervals** below.\n",
        "\n",
        "Function below are graded function. (1 Points)"
      ]
    },
    {
      "cell_type": "code",
      "metadata": {
        "id": "BXXOiTMvznAB",
        "colab": {
          "base_uri": "https://localhost:8080/"
        },
        "outputId": "38eec165-a5f7-42a3-8c4f-e40908b9cce7"
      },
      "source": [
        "# Write your function below\n",
        "\n",
        "# Graded-Funtion Begin\n",
        "p = 1948/48453\n",
        "jumlah_data = 83783\n",
        "z = 1.96\n",
        "standard_error = np.sqrt(p*(1-p)/jumlah_data)\n",
        "error = z*standard_error\n",
        "\n",
        "np.array((p - error, p+error))*100\n",
        "\n",
        "\n",
        "\n",
        "\n",
        "# Graded-Funtion End"
      ],
      "execution_count": null,
      "outputs": [
        {
          "output_type": "execute_result",
          "data": {
            "text/plain": [
              "array([3.88737555, 4.15340624])"
            ]
          },
          "metadata": {},
          "execution_count": 347
        }
      ]
    },
    {
      "cell_type": "markdown",
      "metadata": {
        "id": "7OPX0MVMi-Mr"
      },
      "source": [
        "# Maka dari itu diketahui bahwa Confidence Intervals jumlah properti diatas SALE PRICE 3000000 adalah 3 hingga 4 persen\n",
        "\n",
        "\n"
      ]
    },
    {
      "cell_type": "markdown",
      "metadata": {
        "id": "fMpAKoAbznAB"
      },
      "source": [
        "# Make your **Hypothesis Testing** below\n",
        "\n",
        "Function below are graded function. (1 Points)"
      ]
    },
    {
      "cell_type": "markdown",
      "metadata": {
        "id": "mT1_orRoocxN"
      },
      "source": [
        "# Research Question nya apakah NEIGBORHOOD ALPHABET CITY memiliki SALE PRICE rata-rata yang lebih tinggi secara signifikan daripada WOODROW?\n"
      ]
    },
    {
      "cell_type": "code",
      "metadata": {
        "colab": {
          "base_uri": "https://localhost:8080/",
          "height": 457
        },
        "id": "0SVqPvm58Atj",
        "outputId": "90a2d350-456f-46fa-bddf-c0523bc85739"
      },
      "source": [
        "df_Neigh = df[[\"NEIGHBORHOOD\",\"SALE PRICE\"]]\n",
        "df_alpha= df_Neigh[df_Neigh['NEIGHBORHOOD'] == 'ALPHABET CITY']\n",
        "df_alpha"
      ],
      "execution_count": null,
      "outputs": [
        {
          "output_type": "execute_result",
          "data": {
            "text/html": [
              "<div>\n",
              "<style scoped>\n",
              "    .dataframe tbody tr th:only-of-type {\n",
              "        vertical-align: middle;\n",
              "    }\n",
              "\n",
              "    .dataframe tbody tr th {\n",
              "        vertical-align: top;\n",
              "    }\n",
              "\n",
              "    .dataframe thead th {\n",
              "        text-align: right;\n",
              "    }\n",
              "</style>\n",
              "<table border=\"1\" class=\"dataframe\">\n",
              "  <thead>\n",
              "    <tr style=\"text-align: right;\">\n",
              "      <th></th>\n",
              "      <th>NEIGHBORHOOD</th>\n",
              "      <th>SALE PRICE</th>\n",
              "    </tr>\n",
              "  </thead>\n",
              "  <tbody>\n",
              "    <tr>\n",
              "      <th>0</th>\n",
              "      <td>ALPHABET CITY</td>\n",
              "      <td>6625000.0</td>\n",
              "    </tr>\n",
              "    <tr>\n",
              "      <th>3</th>\n",
              "      <td>ALPHABET CITY</td>\n",
              "      <td>3936272.0</td>\n",
              "    </tr>\n",
              "    <tr>\n",
              "      <th>4</th>\n",
              "      <td>ALPHABET CITY</td>\n",
              "      <td>8000000.0</td>\n",
              "    </tr>\n",
              "    <tr>\n",
              "      <th>6</th>\n",
              "      <td>ALPHABET CITY</td>\n",
              "      <td>3192840.0</td>\n",
              "    </tr>\n",
              "    <tr>\n",
              "      <th>9</th>\n",
              "      <td>ALPHABET CITY</td>\n",
              "      <td>16232000.0</td>\n",
              "    </tr>\n",
              "    <tr>\n",
              "      <th>11</th>\n",
              "      <td>ALPHABET CITY</td>\n",
              "      <td>10350000.0</td>\n",
              "    </tr>\n",
              "    <tr>\n",
              "      <th>22</th>\n",
              "      <td>ALPHABET CITY</td>\n",
              "      <td>11900000.0</td>\n",
              "    </tr>\n",
              "    <tr>\n",
              "      <th>73</th>\n",
              "      <td>ALPHABET CITY</td>\n",
              "      <td>28000000.0</td>\n",
              "    </tr>\n",
              "    <tr>\n",
              "      <th>75</th>\n",
              "      <td>ALPHABET CITY</td>\n",
              "      <td>52625000.0</td>\n",
              "    </tr>\n",
              "    <tr>\n",
              "      <th>172</th>\n",
              "      <td>ALPHABET CITY</td>\n",
              "      <td>3300000.0</td>\n",
              "    </tr>\n",
              "    <tr>\n",
              "      <th>173</th>\n",
              "      <td>ALPHABET CITY</td>\n",
              "      <td>7215000.0</td>\n",
              "    </tr>\n",
              "    <tr>\n",
              "      <th>174</th>\n",
              "      <td>ALPHABET CITY</td>\n",
              "      <td>4750000.0</td>\n",
              "    </tr>\n",
              "    <tr>\n",
              "      <th>195</th>\n",
              "      <td>ALPHABET CITY</td>\n",
              "      <td>3700000.0</td>\n",
              "    </tr>\n",
              "  </tbody>\n",
              "</table>\n",
              "</div>"
            ],
            "text/plain": [
              "      NEIGHBORHOOD  SALE PRICE\n",
              "0    ALPHABET CITY   6625000.0\n",
              "3    ALPHABET CITY   3936272.0\n",
              "4    ALPHABET CITY   8000000.0\n",
              "6    ALPHABET CITY   3192840.0\n",
              "9    ALPHABET CITY  16232000.0\n",
              "11   ALPHABET CITY  10350000.0\n",
              "22   ALPHABET CITY  11900000.0\n",
              "73   ALPHABET CITY  28000000.0\n",
              "75   ALPHABET CITY  52625000.0\n",
              "172  ALPHABET CITY   3300000.0\n",
              "173  ALPHABET CITY   7215000.0\n",
              "174  ALPHABET CITY   4750000.0\n",
              "195  ALPHABET CITY   3700000.0"
            ]
          },
          "metadata": {},
          "execution_count": 348
        }
      ]
    },
    {
      "cell_type": "code",
      "metadata": {
        "colab": {
          "base_uri": "https://localhost:8080/",
          "height": 424
        },
        "id": "z-DC7iRO9Bsu",
        "outputId": "68bc9250-9734-4d35-e2cc-37c272ce5d75"
      },
      "source": [
        "df_wood = df_Neigh[df_Neigh['NEIGHBORHOOD'] == 'WOODROW']\n",
        "df_wood\n"
      ],
      "execution_count": null,
      "outputs": [
        {
          "output_type": "execute_result",
          "data": {
            "text/html": [
              "<div>\n",
              "<style scoped>\n",
              "    .dataframe tbody tr th:only-of-type {\n",
              "        vertical-align: middle;\n",
              "    }\n",
              "\n",
              "    .dataframe tbody tr th {\n",
              "        vertical-align: top;\n",
              "    }\n",
              "\n",
              "    .dataframe thead th {\n",
              "        text-align: right;\n",
              "    }\n",
              "</style>\n",
              "<table border=\"1\" class=\"dataframe\">\n",
              "  <thead>\n",
              "    <tr style=\"text-align: right;\">\n",
              "      <th></th>\n",
              "      <th>NEIGHBORHOOD</th>\n",
              "      <th>SALE PRICE</th>\n",
              "    </tr>\n",
              "  </thead>\n",
              "  <tbody>\n",
              "    <tr>\n",
              "      <th>84417</th>\n",
              "      <td>WOODROW</td>\n",
              "      <td>640000.0</td>\n",
              "    </tr>\n",
              "    <tr>\n",
              "      <th>84418</th>\n",
              "      <td>WOODROW</td>\n",
              "      <td>664000.0</td>\n",
              "    </tr>\n",
              "    <tr>\n",
              "      <th>84422</th>\n",
              "      <td>WOODROW</td>\n",
              "      <td>470000.0</td>\n",
              "    </tr>\n",
              "    <tr>\n",
              "      <th>84423</th>\n",
              "      <td>WOODROW</td>\n",
              "      <td>470000.0</td>\n",
              "    </tr>\n",
              "    <tr>\n",
              "      <th>84424</th>\n",
              "      <td>WOODROW</td>\n",
              "      <td>465000.0</td>\n",
              "    </tr>\n",
              "    <tr>\n",
              "      <th>...</th>\n",
              "      <td>...</td>\n",
              "      <td>...</td>\n",
              "    </tr>\n",
              "    <tr>\n",
              "      <th>84543</th>\n",
              "      <td>WOODROW</td>\n",
              "      <td>450000.0</td>\n",
              "    </tr>\n",
              "    <tr>\n",
              "      <th>84544</th>\n",
              "      <td>WOODROW</td>\n",
              "      <td>550000.0</td>\n",
              "    </tr>\n",
              "    <tr>\n",
              "      <th>84545</th>\n",
              "      <td>WOODROW</td>\n",
              "      <td>460000.0</td>\n",
              "    </tr>\n",
              "    <tr>\n",
              "      <th>84546</th>\n",
              "      <td>WOODROW</td>\n",
              "      <td>11693337.0</td>\n",
              "    </tr>\n",
              "    <tr>\n",
              "      <th>84547</th>\n",
              "      <td>WOODROW</td>\n",
              "      <td>69300.0</td>\n",
              "    </tr>\n",
              "  </tbody>\n",
              "</table>\n",
              "<p>93 rows × 2 columns</p>\n",
              "</div>"
            ],
            "text/plain": [
              "      NEIGHBORHOOD  SALE PRICE\n",
              "84417      WOODROW    640000.0\n",
              "84418      WOODROW    664000.0\n",
              "84422      WOODROW    470000.0\n",
              "84423      WOODROW    470000.0\n",
              "84424      WOODROW    465000.0\n",
              "...            ...         ...\n",
              "84543      WOODROW    450000.0\n",
              "84544      WOODROW    550000.0\n",
              "84545      WOODROW    460000.0\n",
              "84546      WOODROW  11693337.0\n",
              "84547      WOODROW     69300.0\n",
              "\n",
              "[93 rows x 2 columns]"
            ]
          },
          "metadata": {},
          "execution_count": 349
        }
      ]
    },
    {
      "cell_type": "code",
      "metadata": {
        "colab": {
          "base_uri": "https://localhost:8080/"
        },
        "id": "70vpeU229o3-",
        "outputId": "cd976887-fc43-4cf3-a3f0-11b0b549b83a"
      },
      "source": [
        "n1 = len(df_alpha)\n",
        "mu1 = df_alpha[\"SALE PRICE\"].mean()\n",
        "sd1 = df_alpha[\"SALE PRICE\"].std()\n",
        "\n",
        "(n1, mu1, sd1)"
      ],
      "execution_count": null,
      "outputs": [
        {
          "output_type": "execute_result",
          "data": {
            "text/plain": [
              "(13, 12294316.307692308, 13944610.632686878)"
            ]
          },
          "metadata": {},
          "execution_count": 350
        }
      ]
    },
    {
      "cell_type": "code",
      "metadata": {
        "colab": {
          "base_uri": "https://localhost:8080/"
        },
        "id": "3oOCRrfC94US",
        "outputId": "fb27325d-7de4-42c1-e199-fc936fcbc91f"
      },
      "source": [
        "n2 = len(df_wood)\n",
        "mu2 = df_wood[\"SALE PRICE\"].mean()\n",
        "sd2 = df_wood[\"SALE PRICE\"].std()\n",
        "\n",
        "(n2, mu2, sd2)"
      ],
      "execution_count": null,
      "outputs": [
        {
          "output_type": "execute_result",
          "data": {
            "text/plain": [
              "(93, 668532.5161290322, 1173676.5327400514)"
            ]
          },
          "metadata": {},
          "execution_count": 351
        }
      ]
    },
    {
      "cell_type": "code",
      "metadata": {
        "id": "weyRvkNc2tts"
      },
      "source": [
        ""
      ],
      "execution_count": null,
      "outputs": []
    },
    {
      "cell_type": "code",
      "metadata": {
        "id": "cIFG99dGznAB",
        "colab": {
          "base_uri": "https://localhost:8080/"
        },
        "outputId": "d811d2db-1c7d-4292-c585-3de210851b90"
      },
      "source": [
        "# Write your function below\n",
        "\n",
        "\n",
        "\n",
        "# Graded-Funtion Begin\n",
        "\n",
        "sm.stats.ztest(df_alpha[\"SALE PRICE\"].dropna(), df_wood[\"SALE PRICE\"].dropna(),alternative='two-sided')\n",
        "\n",
        "\n",
        "\n",
        "# Graded-Funtion End"
      ],
      "execution_count": null,
      "outputs": [
        {
          "output_type": "execute_result",
          "data": {
            "text/plain": [
              "(8.072678787185998, 6.877236123189402e-16)"
            ]
          },
          "metadata": {},
          "execution_count": 352
        }
      ]
    },
    {
      "cell_type": "markdown",
      "metadata": {
        "id": "EPEaE8fXznAC"
      },
      "source": [
        "Write your final conclusion below.\n",
        "\n",
        "Your conclusion below are graded. (1 Points)"
      ]
    },
    {
      "cell_type": "markdown",
      "metadata": {
        "id": "WrwL8faK_4rt"
      },
      "source": [
        "# CONCLUSION\n",
        "\n",
        "\n",
        "*   Dari Hasil Confindence Intervals jumlah properti diatas SALE PRICE 3000000 adalah 3 hingga 4 persen\n",
        "*  Dari Hasil Hypothesis Testing harga properti NEIGHBORHOOD Alphabet City memiliki rata-rata lebih tinggi dibandingkan Woodrow\n",
        "\n"
      ]
    }
  ]
}